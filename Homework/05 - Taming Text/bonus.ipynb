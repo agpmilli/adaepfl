{
 "cells": [
  {
   "cell_type": "code",
   "execution_count": 1,
   "metadata": {
    "collapsed": false
   },
   "outputs": [],
   "source": [
    "import pandas as pd\n",
    "import numpy as np\n",
    "import community\n",
    "import networkx as nx\n",
    "import matplotlib.pyplot as plt\n",
    "import string\n",
    "import nltk\n",
    "from nltk.corpus import stopwords\n",
    "from nltk import word_tokenize\n",
    "from plotly_helpers import *\n",
    "import credentials\n",
    "import collections\n",
    "from IPython.display import HTML\n",
    "\n",
    "#nltk.download()\n",
    "py.sign_in(credentials.PLOTLY_USERNAME, credentials.PLOTLY_API_KEY)"
   ]
  },
  {
   "cell_type": "markdown",
   "metadata": {},
   "source": [
    "We first read the different CSV files that we load into dataframes."
   ]
  },
  {
   "cell_type": "code",
   "execution_count": 2,
   "metadata": {
    "collapsed": false
   },
   "outputs": [],
   "source": [
    "df_emails = pd.read_csv('hillary-clinton-emails/emails.csv')\n",
    "df_aliases = pd.read_csv('hillary-clinton-emails/Aliases.csv')\n",
    "df_emails_receivers = pd.read_csv('hillary-clinton-emails/EmailReceivers.csv')"
   ]
  },
  {
   "cell_type": "markdown",
   "metadata": {},
   "source": [
    "Then we construct the list of edges among the different senders and receivers for each email sent. That is, we get the sender person's id for each email (node from) and we look into the receivers' id dataframe for the corresponding receivers (nodes to). If the sender id is unknown, we label it as -1."
   ]
  },
  {
   "cell_type": "code",
   "execution_count": 3,
   "metadata": {
    "collapsed": false
   },
   "outputs": [],
   "source": [
    "edges = []\n",
    "for index, row in df_emails.iterrows():\n",
    "    emailId, senderId = row[['Id', 'SenderPersonId']]\n",
    "    \n",
    "    receiversId = []\n",
    "    for index, row in df_emails_receivers[df_emails_receivers['EmailId'] == emailId].iterrows():\n",
    "        receiversId.append(df_aliases[df_aliases['PersonId'] == row['PersonId']]['PersonId'].iloc[0])\n",
    "    if(np.isnan(senderId)):\n",
    "        senderId = -1\n",
    "        \n",
    "    edges.append(((int)(senderId), receiversId))"
   ]
  },
  {
   "cell_type": "markdown",
   "metadata": {},
   "source": [
    "Once this list of edges is built, we create the corresponding graph. Then we label each node with its corresponding name by looking in the aliases dataframe and we plot the network graph (the graph is interactive, you can zoom on it to see it in details)."
   ]
  },
  {
   "cell_type": "code",
   "execution_count": 4,
   "metadata": {
    "collapsed": false
   },
   "outputs": [
    {
     "data": {
      "text/html": [
       "<iframe id=\"igraph\" scrolling=\"no\" style=\"border:none;\" seamless=\"seamless\" src=\"https://plot.ly/~alexcrt/58.embed\" height=\"500px\" width=\"500px\"></iframe>"
      ],
      "text/plain": [
       "<plotly.tools.PlotlyDisplay object>"
      ]
     },
     "execution_count": 4,
     "metadata": {},
     "output_type": "execute_result"
    }
   ],
   "source": [
    "G = nx.Graph()\n",
    "\n",
    "for sender, receivers in edges:\n",
    "    for receiver in receivers:\n",
    "        G.add_edge(sender, receiver)\n",
    "\n",
    "pos = nx.fruchterman_reingold_layout(G) \n",
    "labels = []\n",
    "for k in pos.keys():\n",
    "    if(k == -1):\n",
    "        labels.append('Unknown')\n",
    "    else:\n",
    "        labels.append(df_aliases[df_aliases['PersonId'] == k].Alias.values[0])\n",
    "        \n",
    "py.iplot(plot_graph('Emails connection network', G, pos, labels))"
   ]
  },
  {
   "cell_type": "markdown",
   "metadata": {},
   "source": [
    "We then use the community module, to partition the graph into communities."
   ]
  },
  {
   "cell_type": "code",
   "execution_count": 5,
   "metadata": {
    "collapsed": false,
    "scrolled": true
   },
   "outputs": [
    {
     "name": "stdout",
     "output_type": "stream",
     "text": [
      "Number of communities: 17\n"
     ]
    }
   ],
   "source": [
    "partition = community.best_partition(G)\n",
    "values = [partition.get(node) for node in G.nodes()]\n",
    "\n",
    "print(\"Number of communities:\", max(values))"
   ]
  },
  {
   "cell_type": "markdown",
   "metadata": {},
   "source": [
    "There is 17 communities, so we can use a list of common colors to attribute a different one for each of them, and print the corresponding community graph (the graph is interactive, you can zoom on it to see it in details)."
   ]
  },
  {
   "cell_type": "code",
   "execution_count": 6,
   "metadata": {
    "collapsed": false
   },
   "outputs": [
    {
     "data": {
      "text/html": [
       "<iframe id=\"igraph\" scrolling=\"no\" style=\"border:none;\" seamless=\"seamless\" src=\"https://plot.ly/~alexcrt/60.embed\" height=\"500px\" width=\"500px\"></iframe>"
      ],
      "text/plain": [
       "<plotly.tools.PlotlyDisplay object>"
      ]
     },
     "execution_count": 6,
     "metadata": {},
     "output_type": "execute_result"
    }
   ],
   "source": [
    "colors_hex = [\n",
    "    '#FFB300', # Vivid Yellow\n",
    "    '#803E75', # Strong Purple\n",
    "    '#FF6800', # Vivid Orange\n",
    "    '#A6BDD7', # Very Light Blue\n",
    "    '#C10020', # Vivid Red\n",
    "    '#CEA262', # Grayish Yellow\n",
    "    '#817066', # Medium Gray\n",
    "\n",
    "    # The following don't work well for people with defective color vision\n",
    "    '#007D34', # Vivid Green\n",
    "    '#F6768E', # Strong Purplish Pink\n",
    "    '#00538A', # Strong Blue\n",
    "    '#FF7A5C', # Strong Yellowish Pink\n",
    "    '#53377A', # Strong Violet\n",
    "    '#FF8E00', # Vivid Orange Yellow\n",
    "    '#B32851', # Strong Purplish Red\n",
    "    '#F4C800', # Vivid Greenish Yellow\n",
    "    '#7F180D', # Strong Reddish Brown\n",
    "    '#93AA00', # Vivid Yellowish Green\n",
    "    '#593315', # Deep Yellowish Brown\n",
    "    '#F13A13', # Vivid Reddish Orange\n",
    "    '#232C16', # Dark Olive Green\n",
    "    ]\n",
    "colors = [colors_hex[i] for i in values]\n",
    "py.iplot(plot_graph('Emails community network', G, pos, labels, node_color=colors))"
   ]
  },
  {
   "cell_type": "markdown",
   "metadata": {},
   "source": [
    "Once the communities are set, we build a mapping that maps the id of each community to the ids of each person belonging in this community."
   ]
  },
  {
   "cell_type": "code",
   "execution_count": 7,
   "metadata": {
    "collapsed": false
   },
   "outputs": [],
   "source": [
    "people_per_community = {}\n",
    "\n",
    "for key, value in sorted(partition.items()):\n",
    "    people_per_community.setdefault(value, []).append(key)"
   ]
  },
  {
   "cell_type": "markdown",
   "metadata": {},
   "source": [
    "Now we fetch the common words used by the senders in each community. The fetch_words method is responsible to get all the subjects and body texts written by each sender.\n",
    "\n",
    "Once we have that, we use the a dictionnary to remove stop words and punctuation. We then print the 20 most common words used by senders in each community. "
   ]
  },
  {
   "cell_type": "code",
   "execution_count": 8,
   "metadata": {
    "collapsed": false
   },
   "outputs": [
    {
     "data": {
      "text/html": [
       "<p style=\"color:#FFB300\"> Community #FFB300 : </p> <p>No emails sent in this community</p><br/><p style=\"color:#803E75\"> Community #803E75 : </p> <p>No emails sent in this community</p><br/><p style=\"color:#FF6800\"> Community #FF6800 : </p> <p>[('call', 437), ('h', 369), ('hrod17', 215), ('clintonemail.com', 206), ('thx', 202), (\"n't\", 196), ('see', 185), ('would', 184), ('pm', 184), ('get', 179), ('know', 174), (\"'m\", 172), ('also', 161), ('print', 157), ('talk', 155), ('let', 154), ('2009', 153), ('time', 152), ('state', 148), ('tomorrow', 145)]</p><br/><p style=\"color:#A6BDD7\"> Community #A6BDD7 : </p> <p>[('state', 309), ('u.s.', 256), ('fyi', 188), ('would', 167), ('us', 157), ('said', 157), ('agreement', 154), ('united', 151), ('call', 151), ('states', 150), ('benghazi', 148), ('department', 143), ('people', 138), ('case', 135), ('president', 134), ('also', 131), ('work', 131), ('house', 130), ('subject', 125), ('information', 124)]</p><br/><p style=\"color:#C10020\"> Community #C10020 : </p> <p>[('women', 291), ('state', 247), ('said', 224), ('new', 217), ('u.s.', 207), (\"n't\", 207), ('would', 199), ('clinton', 194), ('also', 180), ('one', 169), ('us', 152), ('foreign', 132), ('work', 130), ('think', 126), ('obama', 125), ('policy', 124), ('2010', 123), ('afghanistan', 123), ('president', 121), ('know', 116)]</p><br/><p style=\"color:#CEA262\"> Community #CEA262 : </p> <p>No emails sent in this community</p><br/><p style=\"color:#817066\"> Community #817066 : </p> <p>[('said', 34), ('mr.', 33), ('richards', 31), (\"n't\", 30), ('women', 28), ('one', 22), ('says', 21), ('new', 21), ('years', 20), ('people', 19), ('place', 18), ('first', 17), ('fisa', 17), ('time', 15), ('jamal', 15), ('city', 15), ('life', 15), ('book', 14), ('day', 14), ('foundation', 14)]</p><br/><p style=\"color:#007D34\"> Community #007D34 : </p> <p>[('un', 60), ('settlements', 50), ('people', 48), ('haitian', 40), ('work', 34), ('e.g.', 28), ('could', 28), ('latrines', 26), ('government', 26), ('plan', 26), ('would', 24), ('though', 23), ('au', 22), ('committee', 22), ('one', 22), ('prince', 22), ('least', 21), ('settlement', 20), ('needs', 20), ('ingo', 20)]</p><br/><p style=\"color:#F6768E\"> Community #F6768E : </p> <p>[('percent', 27), ('approval', 18), ('among', 15), ('clinton', 11), ('rating', 10), ('disapproval', 9), ('secretary', 8), ('poll', 7), ('republicans', 7), ('said', 6), ('obama', 6), ('president', 6), ('democrats', 6), ('higher', 5), ('numbers', 5), ('faucheux', 4), ('partisan', 4), ('news', 4), ('41', 3), ('watchers', 3)]</p><br/><p style=\"color:#00538A\"> Community #00538A : </p> <p>[('call', 343), ('u', 217), ('ap', 153), ('huma', 128), ('reuters', 125), ('pm', 122), ('abedin', 121), (\"n't\", 121), ('talk', 119), ('tomorrow', 113), ('said', 109), ('also', 104), ('today', 103), ('would', 103), ('2009', 103), ('state.gov', 99), ('want', 98), ('abedinh', 95), ('h', 94), ('meeting', 87)]</p><br/><p style=\"color:#FF7A5C\"> Community #FF7A5C : </p> <p>[('obama', 925), ('would', 859), (\"n't\", 730), ('president', 670), ('said', 628), ('one', 604), ('new', 582), ('•', 566), ('fyi', 558), ('state', 546), ('party', 470), ('house', 446), ('american', 412), ('2009', 412), ('time', 399), ('2010', 398), ('israel', 394), ('political', 391), ('people', 385), ('us', 383)]</p><br/><p style=\"color:#53377A\"> Community #53377A : </p> <p>[('state', 67), ('information', 43), ('department', 36), ('u.s.', 35), ('house', 29), ('subject', 27), ('agreement', 26), ('would', 26), ('date', 26), ('doc', 25), ('f-2015-04841', 25), ('waiver', 25), ('05/13/2015', 25), ('comm', 25), ('c05739661', 25), ('dept', 25), ('select', 25), ('foia', 25), ('produced', 25), ('benghazi', 25)]</p><br/><p style=\"color:#FF8E00\"> Community #FF8E00 : </p> <p>No emails sent in this community</p><br/><p style=\"color:#B32851\"> Community #B32851 : </p> <p>[('pm', 1353), ('office', 701), ('secretary', 626), ('room', 345), ('meeting', 331), ('arrive', 281), ('route', 278), ('depart', 270), ('state', 262), ('department', 252), ('private', 225), ('residence', 212), ('*en', 186), ('call', 181), ('time', 164), ('conference', 163), ('daily', 135), ('airport', 123), ('house', 116), ('8:45', 94)]</p><br/><p style=\"color:#F4C800\"> Community #F4C800 : </p> <p>[('shift', 17), ('day', 14), ('work', 11), ('sleep', 10), ('lgf', 8), ('time', 6), ('night', 6), ('convoy', 6), ('hours', 6), ('days', 6), ('schedule', 5), ('average', 5), ('deprivation', 5), ('sleeping', 4), ('3', 4), ('hour', 4), ('first', 3), ('etc', 3), ('off-going', 3), ('starts', 3)]</p><br/><p style=\"color:#7F180D\"> Community #7F180D : </p> <p>No emails sent in this community</p><br/><p style=\"color:#93AA00\"> Community #93AA00 : </p> <p>[('book', 1), ('johnson', 1), ('steinberg', 1), ('piece', 1), ('etc', 1), ('gather', 1), ('tonight', 1), ('make', 1), ('nyt', 1), ('anyone', 1), ('complete', 1), ('also', 1), ('brainstorm', 1), ('little', 1), ('case', 1), ('away', 1), ('simon', 1), ('read', 1), ('get', 1), ('eric', 1)]</p><br/><p style=\"color:#593315\"> Community #593315 : </p> <p>No emails sent in this community</p><br/>"
      ],
      "text/plain": [
       "<IPython.core.display.HTML object>"
      ]
     },
     "execution_count": 8,
     "metadata": {},
     "output_type": "execute_result"
    }
   ],
   "source": [
    "def fetch_words(people):\n",
    "    emails = []\n",
    "    for people_id in people:\n",
    "        rows = df_emails[df_emails['SenderPersonId'] == people_id]\n",
    "        if(len(rows) > 0):\n",
    "            for val in rows.ExtractedSubject.values:\n",
    "                emails.append(str(val))\n",
    "            for val in rows.ExtractedBodyText.values:\n",
    "                emails.append(str(val))\n",
    "    return ' '.join(emails)\n",
    "\n",
    "stop = set(stopwords.words('english'))\n",
    "stop.update(string.punctuation) #Remove ponctuation\n",
    "stop.update(['nan', '\\'s', '--', '``', 'w', 'fw', 'pls', '\\'\\'', '-', '—'])\n",
    "\n",
    "out = ''\n",
    "for community, people in people_per_community.items():\n",
    "    community_color = colors_hex[community]\n",
    "    words = fetch_words(people)\n",
    "    body_tokenized = [i for i in word_tokenize(words.lower()) if i not in stop]\n",
    "    if (len(body_tokenized) == 0):\n",
    "        res = 'No emails sent in this community'\n",
    "    else:\n",
    "        res = str(collections.Counter(body_tokenized).most_common()[:20])\n",
    "    out += '<p style=\\\"color:' + community_color + '\\\"> Community ' + community_color + ' : </p> <p>' + res + '</p><br/>'\n",
    "    \n",
    "HTML(out)"
   ]
  },
  {
   "cell_type": "code",
   "execution_count": null,
   "metadata": {
    "collapsed": true
   },
   "outputs": [],
   "source": []
  }
 ],
 "metadata": {
  "anaconda-cloud": {},
  "kernelspec": {
   "display_name": "Python [default]",
   "language": "python",
   "name": "python3"
  },
  "language_info": {
   "codemirror_mode": {
    "name": "ipython",
    "version": 3
   },
   "file_extension": ".py",
   "mimetype": "text/x-python",
   "name": "python",
   "nbconvert_exporter": "python",
   "pygments_lexer": "ipython3",
   "version": "3.5.2"
  }
 },
 "nbformat": 4,
 "nbformat_minor": 1
}
