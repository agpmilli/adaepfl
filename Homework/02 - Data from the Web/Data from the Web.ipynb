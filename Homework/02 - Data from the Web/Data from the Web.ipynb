{
 "cells": [
  {
   "cell_type": "markdown",
   "metadata": {},
   "source": [
    "## DATA FROM THE WEB"
   ]
  },
  {
   "cell_type": "code",
   "execution_count": 23,
   "metadata": {
    "collapsed": false
   },
   "outputs": [],
   "source": [
    "from bs4 import BeautifulSoup\n",
    "%matplotlib inline\n",
    "import pandas as pd\n",
    "import numpy as np\n",
    "import matplotlib.pyplot as plt\n",
    "import requests as rq\n",
    "import seaborn as sns\n",
    "import itertools as it\n",
    "import re\n",
    "sns.set_context('notebook')"
   ]
  },
  {
   "cell_type": "markdown",
   "metadata": {},
   "source": [
    "# 02 - Data from the Web\n",
    "\n",
    "## Deadline\n",
    "Monday October 17, 2016 at 11:59PM\n",
    "\n",
    "## Important Notes\n",
    "* Make sure you push on GitHub your Notebook with all the cells already evaluated (i.e., you don't want your colleagues to generate \n",
    "unnecessary Web traffic during the peer review :)\n",
    "* Don't forget to add a textual description of your thought process, the assumptions you made, and the solution\n",
    "you plan to implement!\n",
    "* Please write all your comments in English, and use meaningful variable names in your code\n",
    "\n",
    "## Background\n",
    "In this homework we will extract interesting information from [IS-Academia](http://is-academia.epfl.ch/page-6228.html), the educational\n",
    "portal of EPFL. Specifically, we will focus on the part that allows [public access to academic data](http://is-academia.epfl.ch/publicaccess-Bachelor-Master).\n",
    "The list of registered students by section and semester is not offered as a downloadable dataset, so you will have to find a way to scrape the\n",
    "information we need. On [this form](http://isa.epfl.ch/imoniteur_ISAP/%21gedpublicreports.htm?ww_i_reportmodel=133685247) you can select\n",
    "the data to download based on different criteria (e.g., year, semester, etc.)\n",
    "\n",
    "You are not allowed to download manually all the tables -- rather you have to understand what parameters the server accepts, and\n",
    "generate accordingly the HTTP requests. For this task, [Postman](https://www.getpostman.com) with the [Interceptor extension](https://www.getpostman.com/docs/capture)\n",
    "can help you greatly. I recommend you to watch this [brief tutorial](https://www.youtube.com/watch?v=jBjXVrS8nXs&list=PLM-7VG-sgbtD8qBnGeQM5nvlpqB_ktaLZ&autoplay=1)\n",
    "to understand quickly how to use it.\n",
    "Your code in the iPython Notebook should not contain any hardcoded URL. To fetch the content from the IS-Academia server,\n",
    "you can use the [Requests](http://docs.python-requests.org/en/master/) library with a Base URL, but all the other form parameters\n",
    "should be extracted from the HTML with [BeautifulSoup](https://www.crummy.com/software/BeautifulSoup/).\n",
    "You can choose to download Excel or HTML files -- they both have pros and cons, as you will find out after a quick check. You can also\n",
    "choose to download data at different granularities (e.g., per semester, per year, etc.) but I recommend you not to download all the data\n",
    "in one shot because 1) the requests are likely to timeout and 2) we will overload the IS-Academia server.\n",
    "\n",
    "## Assignment\n",
    "We will focus exclusively on the academic unit `Informatique`. When asked, select the right [statistical test](http://hamelg.blogspot.ch/2015/11/python-for-data-analysis-part-24.html).\n",
    "\n",
    "1. Obtain all the data for the Bachelor students, starting from 2007. Keep only the students for which you have an entry for both `Bachelor\n",
    "semestre 1` and `Bachelor semestre 6`. Compute how many months it took each student to go from the first to the sixth semester. Partition\n",
    "the data between male and female students, and compute the average -- is the difference in average statistically significant?\n",
    "\n",
    "2. Perform a similar operation to what described above, this time for Master students. Notice that this data is more tricky, as there are\n",
    "many missing records in the IS-Academia database. Therefore, try to guess how much time a master student spent at EPFL by at least checking\n",
    "the distance in months between `Master semestre 1` and `Master semestre 2`. If the `Mineur` field is *not* empty, the student should also\n",
    "appear registered in `Master semestre 3`. Last but not the least, don't forget to check if the student has an entry also in the `Projet Master`\n",
    "tables. Once you can handle well this data, compute the \"average stay at EPFL\" for master students. Now extract all the students with a \n",
    "`Spécialisation` and compute the \"average stay\" per each category of that attribute -- compared to the general average, can you find any\n",
    "specialization for which the difference in average is statistically significant?\n",
    "\n",
    "3. *BONUS*: perform the gender-based study also on the Master students, as explained in 1. Use scatterplots to visually identify changes\n",
    "over time. Plot males and females with different colors -- can you spot different trends that match the results of your statistical tests?\n",
    "\n",
    "## GET THE GOOD TEST (EXPLAIN)"
   ]
  },
  {
   "cell_type": "markdown",
   "metadata": {},
   "source": [
    "## Function getParamsRequestValue\n",
    "\n",
    "The aim of this function is to return the parameter list that we will supply to query the server, in order to get\n",
    "the list of students for a specific section, year and semester.\n",
    "\n",
    "We have to do two requests. The first request loads the page with the form.\n",
    "From there we can fetch the different values associated with the requested field (we looked at the HTML page to know what value we are looking for, such as 'ww_x_UNITE_ACAD'). From there, we generate a second request to fetch the 'ww_x_GPS' attribute's value generated by the previous request. It then sends back the map with the parameters.\n",
    "\n",
    "For instance, a call like `getParamsRequestValue(133685247, 133685270, 'Informatique', '2007-2008', 'Bachelor semestre 1')` gives back:\n",
    "\n",
    "```\n",
    "{'dummy': 'ok',\n",
    " 'ww_b_list': 1,\n",
    " 'ww_i_reportModelXsl': 133685270,\n",
    " 'ww_i_reportmodel': 133685247,\n",
    " 'ww_x_GPS': 71297531,\n",
    " 'ww_x_HIVERETE': 'null',\n",
    " 'ww_x_PERIODE_ACAD': '978181',\n",
    " 'ww_x_PERIODE_PEDAGO': '249108',\n",
    " 'ww_x_UNITE_ACAD': '249847'}\n",
    " ```"
   ]
  },
  {
   "cell_type": "code",
   "execution_count": 24,
   "metadata": {
    "collapsed": false
   },
   "outputs": [],
   "source": [
    "def getParamsRequestValue(i_reportmodel_num, i_reportmodel_xsl_num, section, year, semester): \n",
    "    r = rq.get('http://isa.epfl.ch/imoniteur_ISAP/!GEDPUBLICREPORTS.filter', params={'ww_i_reportmodel' : i_reportmodel_num})\n",
    "    parameters_map = { 'ww_x_UNITE_ACAD' : section, 'ww_x_PERIODE_ACAD' : year, 'ww_x_PERIODE_PEDAGO' : semester }\n",
    "    \n",
    "    soup = BeautifulSoup(r.text, 'html.parser')\n",
    "    \n",
    "    ps = {key: next((option.attrs['value'] for option in soup.find('select', {'name': key }) if option.text==value), None) for key, value in parameters_map.items()}\n",
    "    o = {'ww_i_reportmodel' : i_reportmodel_num, 'ww_b_list' : 1, 'ww_i_reportModelXsl' : i_reportmodel_xsl_num, 'ww_x_HIVERETE' : 'null', 'dummy' : 'ok'}\n",
    "    d = {**o, **ps}\n",
    "    r = rq.get('http://isa.epfl.ch/imoniteur_ISAP/!GEDPUBLICREPORTS.filter', params=d)\n",
    "    soup = BeautifulSoup(r.text, 'html.parser')\n",
    "    for p in soup.find_all('a'):\n",
    "        if(p.text==', '.join([section, year, semester])):\n",
    "            arr = re.search('\\(\\'(.+?)\\'\\)', p['onclick']).group(1).split(\"=\")\n",
    "            d[arr[0]] = int(arr[1])\n",
    "                  \n",
    "    return d\n",
    "#getParamsRequestValue(133685247, 133685270, 'Informatique', '2007-2008', 'Bachelor semestre 1')"
   ]
  },
  {
   "cell_type": "markdown",
   "metadata": {},
   "source": [
    "### Initialize the value of reportmodel and Section, years and semesters we want."
   ]
  },
  {
   "cell_type": "code",
   "execution_count": 25,
   "metadata": {
    "collapsed": false
   },
   "outputs": [],
   "source": [
    "ww_i_reportmodel_num=133685247\n",
    "ww_i_reportModelXsl_num=133685270\n",
    "section = 'Informatique'\n",
    "bachelor_semesters = ['Bachelor semestre 1', 'Bachelor semestre 2', 'Bachelor semestre 3', 'Bachelor semestre 4', 'Bachelor semestre 5', 'Bachelor semestre 6']\n",
    "years_semesters = {'2007-2008': bachelor_semesters[:2], \n",
    "                   '2008-2009': bachelor_semesters[:4] , \n",
    "                   '2009-2010': bachelor_semesters, \n",
    "                   '2010-2011': bachelor_semesters, \n",
    "                   '2011-2012': bachelor_semesters, \n",
    "                   '2012-2013': bachelor_semesters, \n",
    "                   '2013-2014': bachelor_semesters,\n",
    "                   '2014-2015': bachelor_semesters, \n",
    "                   '2015-2016': bachelor_semesters[4:], \n",
    "                   '2016-2017': bachelor_semesters[4:] }"
   ]
  },
  {
   "cell_type": "markdown",
   "metadata": {},
   "source": [
    "### Get columns' name"
   ]
  },
  {
   "cell_type": "code",
   "execution_count": 26,
   "metadata": {
    "collapsed": false
   },
   "outputs": [],
   "source": [
    "year='2007-2008'\n",
    "semester='Bachelor semestre 1'\n",
    "payload = getParamsRequestValue(ww_i_reportmodel_num, ww_i_reportModelXsl_num, section, year, semester)\n",
    "r = rq.get('http://isa.epfl.ch/imoniteur_ISAP/!GEDPUBLICREPORTS.html?', params=payload)\n",
    "soup = BeautifulSoup(r.text, 'html.parser')\n",
    "list_attr = [attr.string for attr in soup.find_all('th') if attr.string != None]\n",
    "list_attr.append(\"\")"
   ]
  },
  {
   "cell_type": "markdown",
   "metadata": {},
   "source": [
    "### Go through the years/semesters and get the data"
   ]
  },
  {
   "cell_type": "code",
   "execution_count": null,
   "metadata": {
    "collapsed": false
   },
   "outputs": [],
   "source": [
    "def grouper(iterable, n, fillvalue=None):\n",
    "    \"Collect data into fixed-length chunks or blocks\"\n",
    "    # grouper('ABCDEFG', 3, 'x') --> ABC DEF Gxx\"\n",
    "    args = [iter(iterable)] * n\n",
    "    return it.zip_longest(*args, fillvalue=fillvalue)\n",
    "\n",
    "def buildDataFrame(years_semesters, columns_, semester_type):\n",
    "    df_res = pd.DataFrame(columns=columns_)\n",
    "\n",
    "    for year, semesters in years_semesters.items():\n",
    "        for semester in semesters:\n",
    "            payload = getParamsRequestValue(ww_i_reportmodel_num, ww_i_reportModelXsl_num, section, year, semester)\n",
    "            r = rq.get('http://isa.epfl.ch/imoniteur_ISAP/!GEDPUBLICREPORTS.html?', params=payload)\n",
    "            soup = BeautifulSoup(r.text, 'html.parser')\n",
    "            df = pd.DataFrame(list(grouper([td.string for td in soup.find_all('td')], len(list_attr))), columns=list_attr)\n",
    "            del df[\"\"]\n",
    "            df[semester_type] = re.findall(r'\\d', semester)[0]\n",
    "            df[\"Year\"] = year\n",
    "            df_res = df_res.append(df, ignore_index=True)\n",
    "            \n",
    "    return df_res\n"
   ]
  },
  {
   "cell_type": "markdown",
   "metadata": {},
   "source": [
    "### Store table in a csv to avoid asking IS-Academia everytime we restart our script"
   ]
  },
  {
   "cell_type": "code",
   "execution_count": null,
   "metadata": {
    "collapsed": false
   },
   "outputs": [],
   "source": [
    "df_all = buildDataFrame(years_semesters, list_attr, \"Bachelor Semestre\")\n",
    "df_all.to_csv('student_bachelor.csv', sep=';', encoding='utf-8')\n"
   ]
  },
  {
   "cell_type": "markdown",
   "metadata": {},
   "source": [
    "# Question 1\n",
    "Obtain all the data for the Bachelor students, starting from 2007. Keep only the students for which you have an entry for both Bachelor\n",
    "semestre 1 and Bachelor semestre 6. Compute how many months it took each student to go from the first to the sixth semester. Partition the data between male and female students, and compute the average -- is the difference in average statistically significant?"
   ]
  },
  {
   "cell_type": "markdown",
   "metadata": {},
   "source": [
    "### Import csv file created before\n",
    "\n",
    "We delete two columns we don't need"
   ]
  },
  {
   "cell_type": "code",
   "execution_count": null,
   "metadata": {
    "collapsed": false
   },
   "outputs": [],
   "source": [
    "data = pd.read_csv('student_bachelor.csv', sep=';')\n",
    "data = data.drop(['Unnamed: 0', 'Unnamed: 1'], axis=1)"
   ]
  },
  {
   "cell_type": "markdown",
   "metadata": {},
   "source": [
    "### Filter\n",
    "\n",
    "Filter the students to keep only one entry per student with the number of semester done and the order."
   ]
  },
  {
   "cell_type": "code",
   "execution_count": null,
   "metadata": {
    "collapsed": false
   },
   "outputs": [],
   "source": [
    "students_bachelor = data[['No Sciper', 'Civilité', 'Bachelor Semestre', 'Year']]\n",
    "students_bachelor = students_bachelor.sort_values(by=['Year','Bachelor Semestre'])\n",
    "\n",
    "def f(x):\n",
    "    if(x.name == 'Civilité'):\n",
    "        return x.iloc[0]\n",
    "    else:\n",
    "        return list(x)\n",
    "    \n",
    "grp = students_bachelor.groupby('No Sciper').aggregate(lambda x: f(x))\n",
    "grp['Nb Semestres'] = grp.apply(lambda row: len(row['Bachelor Semestre']),axis=1)\n",
    "grp.head()"
   ]
  },
  {
   "cell_type": "markdown",
   "metadata": {},
   "source": [
    "#### Now we have the order in which the students did their semesters\n",
    "\n",
    "Let's test if they did their 6th semester"
   ]
  },
  {
   "cell_type": "code",
   "execution_count": null,
   "metadata": {
    "collapsed": false
   },
   "outputs": [],
   "source": [
    "students_with_bachelor = grp[grp['Bachelor Semestre'].apply(lambda l: 6 in l)]\n",
    "students_with_bachelor.head()"
   ]
  },
  {
   "cell_type": "markdown",
   "metadata": {},
   "source": [
    "#### We see that some students have less than 6 semesters (meaning they didn't do their study only at EPFL), we have to discard them"
   ]
  },
  {
   "cell_type": "code",
   "execution_count": null,
   "metadata": {
    "collapsed": false
   },
   "outputs": [],
   "source": [
    "students_with_bachelor_at_EPFL = students_with_bachelor[students_with_bachelor['Nb Semestres'] >= 6]\n",
    "students_with_bachelor_at_EPFL.head()"
   ]
  },
  {
   "cell_type": "markdown",
   "metadata": {},
   "source": [
    "### Cases of students finishing in Bachelor 5\n",
    "\n",
    "This case happens when students need to redo a semester\n",
    "In this case we do the assumption that if they did their 6th semester and redo a 5th semester after it, they did get their bachelor. The only case we have to care about is the students that are currently (2016-2017) re-doing their 5th semester and as we don't know if they will redo their 6th semester too we cannot count them as having their bachelor."
   ]
  },
  {
   "cell_type": "code",
   "execution_count": null,
   "metadata": {
    "collapsed": false
   },
   "outputs": [],
   "source": [
    "#rename dataframe to a short name to make the expression more readable\n",
    "st = students_with_bachelor[students_with_bachelor['Nb Semestres'] >= 6]\n",
    "students_with_bachelor_at_EPFL = st[st[['Bachelor Semestre','Year']].apply(lambda x: not(x[0][-1] == 5 and x[1][-1] == \"2016-2017\"), axis=1)].copy()\n",
    "students_with_bachelor_at_EPFL.head()"
   ]
  },
  {
   "cell_type": "markdown",
   "metadata": {},
   "source": [
    "### Compute the number of months needed\n",
    "\n",
    "Now that we have our needed data, we want to compute the number of month they needed to get their bachelor. (= 6 times the number of semester).\n",
    "We here assume that one semester contains 6 months."
   ]
  },
  {
   "cell_type": "code",
   "execution_count": null,
   "metadata": {
    "collapsed": false
   },
   "outputs": [],
   "source": [
    "students_with_bachelor_at_EPFL['Nb mois'] = students_with_bachelor_at_EPFL.apply(lambda row: 6 * row['Nb Semestres'],axis=1)\n",
    "students_with_bachelor_at_EPFL.head()"
   ]
  },
  {
   "cell_type": "markdown",
   "metadata": {},
   "source": [
    "### Male/Female Partitioning\n",
    "We first split our DataFrame into male and female students before computing the requested statistics."
   ]
  },
  {
   "cell_type": "code",
   "execution_count": null,
   "metadata": {
    "collapsed": false
   },
   "outputs": [],
   "source": [
    "male_students = students_with_bachelor_at_EPFL[students_with_bachelor_at_EPFL['Civilité'] == 'Monsieur']\n",
    "female_students = students_with_bachelor_at_EPFL[students_with_bachelor_at_EPFL['Civilité'] == 'Madame']\n",
    "\n",
    "female_students.shape"
   ]
  },
  {
   "cell_type": "markdown",
   "metadata": {},
   "source": [
    "We now compute the average of needed months to obtain the bachelor in each of our previously obtained frames. "
   ]
  },
  {
   "cell_type": "code",
   "execution_count": null,
   "metadata": {
    "collapsed": false,
    "scrolled": true
   },
   "outputs": [],
   "source": [
    "male_avg = male_students['Nb mois'].mean()\n",
    "female_avg = female_students['Nb mois'].mean()\n",
    "print('Male Average: ' + str(male_avg) +  '\\nFemale Average: ' + str(female_avg))\n",
    "\n",
    "\n"
   ]
  },
  {
   "cell_type": "markdown",
   "metadata": {},
   "source": [
    "We here have a first idea of the statisticcal difference between the two categories. We go a bit deeper in order to have an idea about the statistic distribution of each one of them. "
   ]
  },
  {
   "cell_type": "code",
   "execution_count": null,
   "metadata": {
    "collapsed": false
   },
   "outputs": [],
   "source": [
    "students_with_bachelor_at_EPFL['Nb mois'].hist(by=students_with_bachelor_at_EPFL['Civilité'], bins = 6, range = [36,72])\n",
    "#students_with_bachelor_at_EPFL['Nb semestres'].hist(by=students_with_bachelor_at_EPFL['Civilité'])\n",
    "\n",
    "plt.show()"
   ]
  },
  {
   "cell_type": "markdown",
   "metadata": {
    "collapsed": true
   },
   "source": [
    "We can see that male students statistically take in average more months to finish their bachelor than female students. A high majority of students (male and female) finish their bachelor in 36 months (3years). We only have 5 female students (20%) taking more than 36 months to finish it. \n",
    "Since our female students sample is very low in size (25 students), we cannot conclude powerful statements based on its analysis."
   ]
  },
  {
   "cell_type": "code",
   "execution_count": null,
   "metadata": {
    "collapsed": true
   },
   "outputs": [],
   "source": []
  }
 ],
 "metadata": {
  "anaconda-cloud": {},
  "kernelspec": {
   "display_name": "Python [Root]",
   "language": "python",
   "name": "Python [Root]"
  },
  "language_info": {
   "codemirror_mode": {
    "name": "ipython",
    "version": 3
   },
   "file_extension": ".py",
   "mimetype": "text/x-python",
   "name": "python",
   "nbconvert_exporter": "python",
   "pygments_lexer": "ipython3",
   "version": "3.5.2"
  }
 },
 "nbformat": 4,
 "nbformat_minor": 0
}
