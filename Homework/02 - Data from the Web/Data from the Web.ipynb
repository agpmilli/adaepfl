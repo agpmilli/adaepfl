{
 "cells": [
  {
   "cell_type": "markdown",
   "metadata": {},
   "source": [
    "## DATA FROM THE WEB"
   ]
  },
  {
   "cell_type": "code",
   "execution_count": null,
   "metadata": {
    "collapsed": false
   },
   "outputs": [],
   "source": [
    "from bs4 import BeautifulSoup\n",
    "%matplotlib inline\n",
    "import pandas as pd\n",
    "import numpy as np\n",
    "import matplotlib.pyplot as plt\n",
    "import requests as rq\n",
    "import seaborn as sns\n",
    "import re\n",
    "sns.set_context('notebook')"
   ]
  },
  {
   "cell_type": "markdown",
   "metadata": {},
   "source": [
    "# 02 - Data from the Web\n",
    "\n",
    "## Deadline\n",
    "Monday October 17, 2016 at 11:59PM\n",
    "\n",
    "## Important Notes\n",
    "* Make sure you push on GitHub your Notebook with all the cells already evaluated (i.e., you don't want your colleagues to generate \n",
    "unnecessary Web traffic during the peer review :)\n",
    "* Don't forget to add a textual description of your thought process, the assumptions you made, and the solution\n",
    "you plan to implement!\n",
    "* Please write all your comments in English, and use meaningful variable names in your code\n",
    "\n",
    "## Background\n",
    "In this homework we will extract interesting information from [IS-Academia](http://is-academia.epfl.ch/page-6228.html), the educational\n",
    "portal of EPFL. Specifically, we will focus on the part that allows [public access to academic data](http://is-academia.epfl.ch/publicaccess-Bachelor-Master).\n",
    "The list of registered students by section and semester is not offered as a downloadable dataset, so you will have to find a way to scrape the\n",
    "information we need. On [this form](http://isa.epfl.ch/imoniteur_ISAP/%21gedpublicreports.htm?ww_i_reportmodel=133685247) you can select\n",
    "the data to download based on different criteria (e.g., year, semester, etc.)\n",
    "\n",
    "You are not allowed to download manually all the tables -- rather you have to understand what parameters the server accepts, and\n",
    "generate accordingly the HTTP requests. For this task, [Postman](https://www.getpostman.com) with the [Interceptor extension](https://www.getpostman.com/docs/capture)\n",
    "can help you greatly. I recommend you to watch this [brief tutorial](https://www.youtube.com/watch?v=jBjXVrS8nXs&list=PLM-7VG-sgbtD8qBnGeQM5nvlpqB_ktaLZ&autoplay=1)\n",
    "to understand quickly how to use it.\n",
    "Your code in the iPython Notebook should not contain any hardcoded URL. To fetch the content from the IS-Academia server,\n",
    "you can use the [Requests](http://docs.python-requests.org/en/master/) library with a Base URL, but all the other form parameters\n",
    "should be extracted from the HTML with [BeautifulSoup](https://www.crummy.com/software/BeautifulSoup/).\n",
    "You can choose to download Excel or HTML files -- they both have pros and cons, as you will find out after a quick check. You can also\n",
    "choose to download data at different granularities (e.g., per semester, per year, etc.) but I recommend you not to download all the data\n",
    "in one shot because 1) the requests are likely to timeout and 2) we will overload the IS-Academia server.\n",
    "\n",
    "## Assignment\n",
    "We will focus exclusively on the academic unit `Informatique`. When asked, select the right [statistical test](http://hamelg.blogspot.ch/2015/11/python-for-data-analysis-part-24.html).\n",
    "\n",
    "1. Obtain all the data for the Bachelor students, starting from 2007. Keep only the students for which you have an entry for both `Bachelor\n",
    "semestre 1` and `Bachelor semestre 6`. Compute how many months it took each student to go from the first to the sixth semester. Partition\n",
    "the data between male and female students, and compute the average -- is the difference in average statistically significant?\n",
    "\n",
    "2. Perform a similar operation to what described above, this time for Master students. Notice that this data is more tricky, as there are\n",
    "many missing records in the IS-Academia database. Therefore, try to guess how much time a master student spent at EPFL by at least checking\n",
    "the distance in months between `Master semestre 1` and `Master semestre 2`. If the `Mineur` field is *not* empty, the student should also\n",
    "appear registered in `Master semestre 3`. Last but not the least, don't forget to check if the student has an entry also in the `Projet Master`\n",
    "tables. Once you can handle well this data, compute the \"average stay at EPFL\" for master students. Now extract all the students with a \n",
    "`Spécialisation` and compute the \"average stay\" per each category of that attribute -- compared to the general average, can you find any\n",
    "specialization for which the difference in average is statistically significant?\n",
    "\n",
    "3. *BONUS*: perform the gender-based study also on the Master students, as explained in 1. Use scatterplots to visually identify changes\n",
    "over time. Plot males and females with different colors -- can you spot different trends that match the results of your statistical tests?\n",
    "\n",
    "## GET THE GOOD TEST (EXPLAIN)"
   ]
  },
  {
   "cell_type": "markdown",
   "metadata": {},
   "source": [
    "## Function getParamsRequestValue\n",
    "\n",
    "#### TODO comment"
   ]
  },
  {
   "cell_type": "code",
   "execution_count": null,
   "metadata": {
    "collapsed": false
   },
   "outputs": [],
   "source": [
    "def getParamsRequestValue(i_reportmodel_num, i_reportmodel_xsl_num, section, year, semester): \n",
    "    r = rq.get('http://isa.epfl.ch/imoniteur_ISAP/!GEDPUBLICREPORTS.filter', params={'ww_i_reportmodel' : i_reportmodel_num})\n",
    "    parameters_map = { 'ww_x_UNITE_ACAD' : section, 'ww_x_PERIODE_ACAD' : year, 'ww_x_PERIODE_PEDAGO' : semester }\n",
    "    \n",
    "    soup = BeautifulSoup(r.text, 'html.parser')\n",
    "    \n",
    "    ps = {key: next((option.attrs['value'] for option in soup.find('select', {'name': key }) if option.text==value), None) for key, value in parameters_map.items()}\n",
    "    o = {'ww_i_reportmodel' : i_reportmodel_num, 'ww_b_list' : 1, 'ww_i_reportModelXsl' : i_reportmodel_xsl_num, 'ww_x_HIVERETE' : 'null', 'dummy' : 'ok'}\n",
    "    d = {**o, **ps}\n",
    "    r = rq.get('http://isa.epfl.ch/imoniteur_ISAP/!GEDPUBLICREPORTS.filter', params=d)\n",
    "    soup = BeautifulSoup(r.text, 'html.parser')\n",
    "    for p in soup.find_all('a'):\n",
    "        if(p.text==', '.join([section, year, semester])):\n",
    "            arr = re.search('\\(\\'(.+?)\\'\\)', p['onclick']).group(1).split(\"=\")\n",
    "            d[arr[0]] = int(arr[1])\n",
    "                  \n",
    "    return d\n",
    "\n",
    "#getParamsRequestValue(133685247, 133685270, 'Informatique', '2007-2008', 'Bachelor semestre 1')"
   ]
  },
  {
   "cell_type": "markdown",
   "metadata": {},
   "source": [
    "### Initialize the value of reportmodel and Section, years and semesters we want."
   ]
  },
  {
   "cell_type": "code",
   "execution_count": null,
   "metadata": {
    "collapsed": false
   },
   "outputs": [],
   "source": [
    "ww_i_reportmodel_num=133685247\n",
    "ww_i_reportModelXsl_num=133685270\n",
    "section = 'Informatique'\n",
    "bachelor_semesters = ['Bachelor semestre 1', 'Bachelor semestre 2', 'Bachelor semestre 3', 'Bachelor semestre 4', 'Bachelor semestre 5', 'Bachelor semestre 6']\n",
    "years_semesters = {'2007-2008': ['Bachelor semestre 1', 'Bachelor semestre 2'], '2008-2009': ['Bachelor semestre 1', 'Bachelor semestre 2', 'Bachelor semestre 3', 'Bachelor semestre 4'] , '2009-2010': bachelor_semesters, '2010-2011': bachelor_semesters, '2011-2012': bachelor_semesters, '2012-2013':bachelor_semesters, '2013-2014': bachelor_semesters, '2014-2015': bachelor_semesters, '2015-2016': ['Bachelor semestre 5', 'Bachelor semestre 6'], '2016-2017': ['Bachelor semestre 5', 'Bachelor semestre 6'] }"
   ]
  },
  {
   "cell_type": "markdown",
   "metadata": {},
   "source": [
    "### Get columns' name"
   ]
  },
  {
   "cell_type": "code",
   "execution_count": null,
   "metadata": {
    "collapsed": false
   },
   "outputs": [],
   "source": [
    "list_attr = []\n",
    "attributs = soup.find_all('th')\n",
    "for attr in attributs:\n",
    "    if(attr.string!=None):\n",
    "        list_attr.append(attr.string)\n",
    "\n",
    "list_attr.append(\"\")\n",
    "print(list_attr)"
   ]
  },
  {
   "cell_type": "markdown",
   "metadata": {},
   "source": [
    "### Go through the years/semesters and get the data"
   ]
  },
  {
   "cell_type": "code",
   "execution_count": null,
   "metadata": {
    "collapsed": false
   },
   "outputs": [],
   "source": [
    "df_all = pd.DataFrame(columns=list_attr)\n",
    "for year,semesters in years_semesters.items():\n",
    "    for semester in semesters:\n",
    "        payload = getParamsRequestValue(ww_i_reportmodel_num, ww_i_reportModelXsl_num, section, year, semester)\n",
    "        r = rq.get('http://isa.epfl.ch/imoniteur_ISAP/!GEDPUBLICREPORTS.html?', params=payload)\n",
    "        soup = BeautifulSoup(r.text, 'html.parser')\n",
    "        tds = soup.find_all('td')\n",
    "        df = pd.DataFrame(columns=list_attr)\n",
    "        pers = pd.Series()\n",
    "        i=0\n",
    "        j=0\n",
    "        for elem in tds:\n",
    "            pers.set_value(list_attr[(i%len(list_attr))], elem.string)\n",
    "            i+=1\n",
    "            if(i%len(list_attr)==0):\n",
    "                j+=1\n",
    "                df.loc[j]=pers\n",
    "                pers.iloc[1:]\n",
    "\n",
    "# We delete the empty column (and others if needed)\n",
    "        del df[\"\"]\n",
    "        \n",
    "        df[\"Bachelor Semestre\"]=semester\n",
    "        df_all = df_all.append(df, ignore_index=True)\n"
   ]
  },
  {
   "cell_type": "code",
   "execution_count": null,
   "metadata": {
    "collapsed": false
   },
   "outputs": [],
   "source": [
    "#df_all\n",
    "df_all.to_csv('student_bachelor.csv', sep=';')"
   ]
  },
  {
   "cell_type": "code",
   "execution_count": null,
   "metadata": {
    "collapsed": false
   },
   "outputs": [],
   "source": [
    "# TEST FOR 1 year / 1 semester\n",
    "semester=\"Bachelor semestre 1\"\n",
    "year=\"2015-2016\"\n",
    "payload = getParamsRequestValue(ww_i_reportmodel_num, ww_i_reportModelXsl_num, section, year, semester)\n",
    "r = rq.get('http://isa.epfl.ch/imoniteur_ISAP/!GEDPUBLICREPORTS.html?', params=payload)\n",
    "soup = BeautifulSoup(r.text, 'html.parser')\n",
    "#print(soup.prettify())"
   ]
  },
  {
   "cell_type": "markdown",
   "metadata": {},
   "source": [
    "### Get the columns values of each student"
   ]
  },
  {
   "cell_type": "code",
   "execution_count": null,
   "metadata": {
    "collapsed": false
   },
   "outputs": [],
   "source": [
    "tds = soup.find_all('td')\n",
    "df = pd.DataFrame(columns= list_attr)\n",
    "pers = pd.Series()\n",
    "i=0\n",
    "j=0\n",
    "for elem in tds:\n",
    "    pers.set_value(list_attr[(i%12)], elem.string)\n",
    "    i+=1\n",
    "    if(i%12==0):\n",
    "        j+=1\n",
    "        df.loc[j]=pers\n",
    "        pers.iloc[1:]\n",
    "\n",
    "# We delete the empty column (and others if needed)\n",
    "del df[\"\"]\n",
    "\n",
    "df[\"Bachelor Semestre\"]=semester\n",
    "\n",
    "#df"
   ]
  },
  {
   "cell_type": "markdown",
   "metadata": {},
   "source": [
    "### We should create a csv with the datafram\n",
    "df.to_csv(file_name, sep='\\t', encoding='utf-8')"
   ]
  },
  {
   "cell_type": "markdown",
   "metadata": {},
   "source": [
    "# Question 1\n",
    "Obtain all the data for the Bachelor students, starting from 2007. Keep only the students for which you have an entry for both Bachelor\n",
    "semestre 1 and Bachelor semestre 6. Compute how many months it took each student to go from the first to the sixth semester. Partition the data between male and female students, and compute the average -- is the difference in average statistically significant?"
   ]
  },
  {
   "cell_type": "code",
   "execution_count": null,
   "metadata": {
    "collapsed": true
   },
   "outputs": [],
   "source": []
  }
 ],
 "metadata": {
  "anaconda-cloud": {},
  "kernelspec": {
   "display_name": "Python [Root]",
   "language": "python",
   "name": "Python [Root]"
  },
  "language_info": {
   "codemirror_mode": {
    "name": "ipython",
    "version": 3
   },
   "file_extension": ".py",
   "mimetype": "text/x-python",
   "name": "python",
   "nbconvert_exporter": "python",
   "pygments_lexer": "ipython3",
   "version": "3.5.2"
  }
 },
 "nbformat": 4,
 "nbformat_minor": 0
}
