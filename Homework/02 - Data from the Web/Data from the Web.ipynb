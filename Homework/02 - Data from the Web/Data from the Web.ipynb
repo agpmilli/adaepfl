{
 "cells": [
  {
   "cell_type": "markdown",
   "metadata": {},
   "source": [
    "## DATA FROM THE WEB"
   ]
  },
  {
   "cell_type": "code",
   "execution_count": 1,
   "metadata": {
    "collapsed": false
   },
   "outputs": [],
   "source": [
    "from bs4 import BeautifulSoup\n",
    "%matplotlib inline\n",
    "import pandas as pd\n",
    "import numpy as np\n",
    "import matplotlib.pyplot as plt\n",
    "import requests as rq\n",
    "import seaborn as sns\n",
    "import re\n",
    "sns.set_context('notebook')"
   ]
  },
  {
   "cell_type": "markdown",
   "metadata": {},
   "source": [
    "## Function getParamsRequestValue\n",
    "\n",
    "#### TODO comment"
   ]
  },
  {
   "cell_type": "code",
   "execution_count": 2,
   "metadata": {
    "collapsed": false
   },
   "outputs": [],
   "source": [
    "def getParamsRequestValue(i_reportmodel_num, i_reportmodel_xsl_num, section, year, semester): \n",
    "    r = rq.get('http://isa.epfl.ch/imoniteur_ISAP/!GEDPUBLICREPORTS.filter', params={'ww_i_reportmodel' : i_reportmodel_num})\n",
    "    parameters_map = { 'ww_x_UNITE_ACAD' : section, 'ww_x_PERIODE_ACAD' : year, 'ww_x_PERIODE_PEDAGO' : semester }\n",
    "    \n",
    "    soup = BeautifulSoup(r.text, 'html.parser')\n",
    "    \n",
    "    ps = {key: next((option.attrs['value'] for option in soup.find('select', {'name': key }) if option.text==value), None) for key, value in parameters_map.items()}\n",
    "    o = {'ww_i_reportmodel' : i_reportmodel_num, 'ww_b_list' : 1, 'ww_i_reportModelXsl' : i_reportmodel_xsl_num, 'ww_x_HIVERETE' : 'null', 'dummy' : 'ok'}\n",
    "    d = {**o, **ps}\n",
    "    r = rq.get('http://isa.epfl.ch/imoniteur_ISAP/!GEDPUBLICREPORTS.filter', params=d)\n",
    "    soup = BeautifulSoup(r.text, 'html.parser')\n",
    "    for p in soup.find_all('a'):\n",
    "        if(p.text==', '.join([section, year, semester])):\n",
    "            arr = re.search('\\(\\'(.+?)\\'\\)', p['onclick']).group(1).split(\"=\")\n",
    "            d[arr[0]] = int(arr[1])\n",
    "                  \n",
    "    return d\n",
    "\n",
    "#getParamsRequestValue(133685247, 133685270, 'Informatique', '2007-2008', 'Bachelor semestre 1')"
   ]
  },
  {
   "cell_type": "markdown",
   "metadata": {},
   "source": [
    "### Initialize the value of reportmodel and Section, years and semesters we want."
   ]
  },
  {
   "cell_type": "code",
   "execution_count": 5,
   "metadata": {
    "collapsed": false
   },
   "outputs": [],
   "source": [
    "ww_i_reportmodel_num=133685247\n",
    "ww_i_reportModelXsl_num=133685270\n",
    "section = 'Informatique'\n",
    "bachelor_semesters = ['Bachelor semestre 1', 'Bachelor semestre 2', 'Bachelor semestre 3', 'Bachelor semestre 4', 'Bachelor semestre 5', 'Bachelor semestre 6']\n",
    "years_semesters = {'2007-2008': ['Bachelor semestre 1', 'Bachelor semestre 2'], '2008-2009': ['Bachelor semestre 1', 'Bachelor semestre 2', 'Bachelor semestre 3', 'Bachelor semestre 4'] , '2009-2010': bachelor_semesters, '2010-2011': bachelor_semesters, '2011-2012': bachelor_semesters, '2012-2013':bachelor_semesters, '2013-2014': bachelor_semesters, '2014-2015': bachelor_semesters, '2015-2016': ['Bachelor semestre 5', 'Bachelor semestre 6'], '2016-2017': ['Bachelor semestre 5', 'Bachelor semestre 6'] }"
   ]
  },
  {
   "cell_type": "code",
   "execution_count": 6,
   "metadata": {
    "collapsed": false
   },
   "outputs": [
    {
     "name": "stdout",
     "output_type": "stream",
     "text": [
      "Informatique, 2011-2012, Bachelor semestre 1\n",
      "Informatique, 2011-2012, Bachelor semestre 2\n",
      "Informatique, 2011-2012, Bachelor semestre 3\n",
      "Informatique, 2011-2012, Bachelor semestre 4\n",
      "Informatique, 2011-2012, Bachelor semestre 5\n",
      "Informatique, 2011-2012, Bachelor semestre 6\n",
      "Informatique, 2015-2016, Bachelor semestre 5\n",
      "Informatique, 2015-2016, Bachelor semestre 6\n",
      "Informatique, 2016-2017, Bachelor semestre 5\n",
      "Informatique, 2016-2017, Bachelor semestre 6\n",
      "Informatique, 2008-2009, Bachelor semestre 1\n",
      "Informatique, 2008-2009, Bachelor semestre 2\n",
      "Informatique, 2008-2009, Bachelor semestre 3\n",
      "Informatique, 2008-2009, Bachelor semestre 4\n",
      "Informatique, 2007-2008, Bachelor semestre 1\n",
      "Informatique, 2007-2008, Bachelor semestre 2\n",
      "Informatique, 2009-2010, Bachelor semestre 1\n",
      "Informatique, 2009-2010, Bachelor semestre 2\n",
      "Informatique, 2009-2010, Bachelor semestre 3\n",
      "Informatique, 2009-2010, Bachelor semestre 4\n",
      "Informatique, 2009-2010, Bachelor semestre 5\n",
      "Informatique, 2009-2010, Bachelor semestre 6\n",
      "Informatique, 2013-2014, Bachelor semestre 1\n",
      "Informatique, 2013-2014, Bachelor semestre 2\n",
      "Informatique, 2013-2014, Bachelor semestre 3\n",
      "Informatique, 2013-2014, Bachelor semestre 4\n",
      "Informatique, 2013-2014, Bachelor semestre 5\n",
      "Informatique, 2013-2014, Bachelor semestre 6\n",
      "Informatique, 2012-2013, Bachelor semestre 1\n",
      "Informatique, 2012-2013, Bachelor semestre 2\n",
      "Informatique, 2012-2013, Bachelor semestre 3\n",
      "Informatique, 2012-2013, Bachelor semestre 4\n",
      "Informatique, 2012-2013, Bachelor semestre 5\n",
      "Informatique, 2012-2013, Bachelor semestre 6\n",
      "Informatique, 2010-2011, Bachelor semestre 1\n",
      "Informatique, 2010-2011, Bachelor semestre 2\n",
      "Informatique, 2010-2011, Bachelor semestre 3\n",
      "Informatique, 2010-2011, Bachelor semestre 4\n",
      "Informatique, 2010-2011, Bachelor semestre 5\n",
      "Informatique, 2010-2011, Bachelor semestre 6\n",
      "Informatique, 2014-2015, Bachelor semestre 1\n",
      "Informatique, 2014-2015, Bachelor semestre 2\n",
      "Informatique, 2014-2015, Bachelor semestre 3\n",
      "Informatique, 2014-2015, Bachelor semestre 4\n",
      "Informatique, 2014-2015, Bachelor semestre 5\n",
      "Informatique, 2014-2015, Bachelor semestre 6\n"
     ]
    }
   ],
   "source": [
    "for year,semesters in years_semesters.items():\n",
    "    for semester in semesters:\n",
    "        payload = getParamsRequestValue(ww_i_reportmodel_num, ww_i_reportModelXsl_num, section, year, semester)\n",
    "        r = rq.get('http://isa.epfl.ch/imoniteur_ISAP/!GEDPUBLICREPORTS.html?', params=payload)\n",
    "        soup = BeautifulSoup(r.text, 'html.parser')\n",
    "        # Print the title of each table we will take into account\n",
    "        print(soup.table.tr.font.string)\n"
   ]
  },
  {
   "cell_type": "code",
   "execution_count": 190,
   "metadata": {
    "collapsed": false
   },
   "outputs": [
    {
     "name": "stdout",
     "output_type": "stream",
     "text": [
      "None\n",
      "Civilité\n",
      "Nom Prénom\n",
      "Orientation Bachelor\n",
      "Orientation Master\n",
      "Spécialisation\n",
      "Filière opt.\n",
      "Mineur\n",
      "Statut\n",
      "Type Echange\n",
      "Ecole Echange\n",
      "No Sciper\n",
      "0    test\n",
      "dtype: object\n"
     ]
    }
   ],
   "source": [
    "attributs = soup.find_all('th')\n",
    "for attr in attributs:\n",
    "    print(attr.string)   \n",
    "print(sr)"
   ]
  },
  {
   "cell_type": "code",
   "execution_count": 7,
   "metadata": {
    "collapsed": false
   },
   "outputs": [],
   "source": [
    "df = pd.DataFrame()\n",
    "i=0\n",
    "ppl_attributes = soup.find_all(style=\"white-space:nowrap\")\n",
    "for ppl_attr in ppl_attributes:\n",
    "    df.loc()\n",
    "    i=i+1\n",
    "    \n",
    "    #print(str(ppl_attr.string) + str(i))\n",
    "    "
   ]
  },
  {
   "cell_type": "code",
   "execution_count": null,
   "metadata": {
    "collapsed": true
   },
   "outputs": [],
   "source": []
  }
 ],
 "metadata": {
  "anaconda-cloud": {},
  "kernelspec": {
   "display_name": "Python [Root]",
   "language": "python",
   "name": "Python [Root]"
  },
  "language_info": {
   "codemirror_mode": {
    "name": "ipython",
    "version": 3
   },
   "file_extension": ".py",
   "mimetype": "text/x-python",
   "name": "python",
   "nbconvert_exporter": "python",
   "pygments_lexer": "ipython3",
   "version": "3.5.2"
  }
 },
 "nbformat": 4,
 "nbformat_minor": 0
}
