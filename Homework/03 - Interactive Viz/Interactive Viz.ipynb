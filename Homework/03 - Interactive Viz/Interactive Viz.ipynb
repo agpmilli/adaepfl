{
 "cells": [
  {
   "cell_type": "markdown",
   "metadata": {},
   "source": [
    "# 03 - Interactive Viz\n",
    "\n",
    "## Deadline\n",
    "Friday October 28, 2016 at 11:59PM\n",
    "\n",
    "## Important Notes\n",
    "* Make sure you push on GitHub your Notebook with all the cells already evaluated\n",
    "* Don't forget to add a textual description of your thought process, the assumptions you made, and the solution\n",
    "you plan to implement!\n",
    "* Please write all your comments in English, and use meaningful variable names in your code\n",
    "\n",
    "## Background\n",
    "In this homework we will practice with interactive visualization, which is the key ingredient of many successful viz (especially when it comes to infographics).\n",
    "You will be working with the P3 database of the [SNSF](http://www.snf.ch/en/Pages/default.aspx) (Swiss National Science Foundation).\n",
    "As you can see from their [entry page](http://p3.snf.ch/), P3 already offers some ready-made viz, but we want to build a more advanced one for the sake\n",
    "of quick data exploration. Therefore, start by [downloading the raw data](http://p3.snf.ch/Pages/DataAndDocumentation.aspx) (just for the Grant Export), and read carefully\n",
    "the documentation to understand the schema. Install then [Folium](https://github.com/python-visualization/folium) to deal with geographical data (*HINT*: it is not\n",
    "available in your standard Anaconda environment, therefore search on the Web how to install it easily!) The README file of Folium comes with very clear examples, and links \n",
    "to their own iPython Notebooks -- make good use of this information. For your own convenience, in this same directory you can already find a TopoJSON file with the \n",
    "geo-coordinates of each Swiss canton (which can be used as an overlay on the Folium maps).\n",
    "\n",
    "\n",
    "## Assignment\n",
    "1. Build a [Choropleth map](https://en.wikipedia.org/wiki/Choropleth_map) which shows intuitively (i.e., use colors wisely) how much grant money goes to each Swiss canton.\n",
    "To do so, you will need to use the provided TopoJSON file, combined with the Choropleth map example you can find in the Folium README file.\n",
    "\n",
    "*HINT*: the P3 database is formed by entries which assign a grant (and its approved amount) to a University name. Therefore you will need a smart strategy to go from University\n",
    "to Canton name. The [Geonames Full Text Search API in JSON](http://www.geonames.org/export/web-services.html) can help you with this -- try to use it as much as possible\n",
    "to build the canton mappings that you need. For those universities for which you cannot find a mapping via the API, you are then allowed to build it manually -- feel free to stop \n",
    "by the time you mapped the top-95% of the universities. I also recommend you to use an intermediate viz step for debugging purposes, showing all the universties as markers in your map (e.g., if you don't select the right results from the Geonames API, some of your markers might be placed on nearby countries...)\n",
    "\n",
    "2. *BONUS*: using the map you have just built, and the geographical information contained in it, could you give a *rough estimate* of the difference in research funding\n",
    "between the areas divided by the [Röstigraben](https://en.wikipedia.org/wiki/R%C3%B6stigraben)?\n",
    "\n",
    "*HINT*: for those cantons cut through by the Röstigraben, [this viz](http://p3.snf.ch/Default.aspx?id=allcharts) can be helpful!\n"
   ]
  },
  {
   "cell_type": "code",
   "execution_count": 104,
   "metadata": {
    "collapsed": false
   },
   "outputs": [],
   "source": [
    "from bs4 import BeautifulSoup\n",
    "%matplotlib inline\n",
    "import pandas as pd\n",
    "import numpy as np\n",
    "import matplotlib.pyplot as plt\n",
    "import seaborn as sns\n",
    "import folium\n",
    "sns.set_context('notebook')\n",
    "import re\n",
    "import requests as rq\n",
    "import json\n",
    "import google_helper as ggl_h"
   ]
  },
  {
   "cell_type": "code",
   "execution_count": 105,
   "metadata": {
    "collapsed": false
   },
   "outputs": [],
   "source": [
    "cantons_json_path = \"data/ch-cantons.topojson.json\"\n",
    "cantons_csv_path = \"data/P3_GrantExport.csv\"\n",
    "\n",
    "data = pd.read_csv(cantons_csv_path, sep=';')"
   ]
  },
  {
   "cell_type": "markdown",
   "metadata": {},
   "source": [
    "### Drop columns we don't need"
   ]
  },
  {
   "cell_type": "code",
   "execution_count": 106,
   "metadata": {
    "collapsed": false
   },
   "outputs": [],
   "source": [
    "data = data.drop([ \"Project Title\", \"Project Title English\", \"Responsible Applicant\", \"Funding Instrument\", \"Funding Instrument Hierarchy\", \"Discipline Number\", \"Discipline Name\", \"Discipline Name Hierarchy\", \"Start Date\", \"End Date\", \"Keywords\"], axis=1)"
   ]
  },
  {
   "cell_type": "code",
   "execution_count": 107,
   "metadata": {
    "collapsed": false
   },
   "outputs": [
    {
     "data": {
      "text/html": [
       "<div>\n",
       "<table border=\"1\" class=\"dataframe\">\n",
       "  <thead>\n",
       "    <tr style=\"text-align: right;\">\n",
       "      <th></th>\n",
       "      <th>﻿\"Project Number\"</th>\n",
       "      <th>Institution</th>\n",
       "      <th>University</th>\n",
       "      <th>Approved Amount</th>\n",
       "    </tr>\n",
       "  </thead>\n",
       "  <tbody>\n",
       "    <tr>\n",
       "      <th>0</th>\n",
       "      <td>1</td>\n",
       "      <td>NaN</td>\n",
       "      <td>Nicht zuteilbar - NA</td>\n",
       "      <td>11619.00</td>\n",
       "    </tr>\n",
       "    <tr>\n",
       "      <th>1</th>\n",
       "      <td>4</td>\n",
       "      <td>Faculté de Psychologie et des Sciences de l'Ed...</td>\n",
       "      <td>Université de Genève - GE</td>\n",
       "      <td>41022.00</td>\n",
       "    </tr>\n",
       "    <tr>\n",
       "      <th>2</th>\n",
       "      <td>5</td>\n",
       "      <td>Kommission für das Corpus philosophorum medii ...</td>\n",
       "      <td>NPO (Biblioth., Museen, Verwalt.) - NPO</td>\n",
       "      <td>79732.00</td>\n",
       "    </tr>\n",
       "    <tr>\n",
       "      <th>3</th>\n",
       "      <td>6</td>\n",
       "      <td>Abt. Handschriften und Alte Drucke Bibliothek ...</td>\n",
       "      <td>Universität Basel - BS</td>\n",
       "      <td>52627.00</td>\n",
       "    </tr>\n",
       "    <tr>\n",
       "      <th>4</th>\n",
       "      <td>7</td>\n",
       "      <td>Schweiz. Thesauruskommission</td>\n",
       "      <td>NPO (Biblioth., Museen, Verwalt.) - NPO</td>\n",
       "      <td>120042.00</td>\n",
       "    </tr>\n",
       "  </tbody>\n",
       "</table>\n",
       "</div>"
      ],
      "text/plain": [
       "   ﻿\"Project Number\"                                        Institution  \\\n",
       "0                  1                                                NaN   \n",
       "1                  4  Faculté de Psychologie et des Sciences de l'Ed...   \n",
       "2                  5  Kommission für das Corpus philosophorum medii ...   \n",
       "3                  6  Abt. Handschriften und Alte Drucke Bibliothek ...   \n",
       "4                  7                       Schweiz. Thesauruskommission   \n",
       "\n",
       "                                University Approved Amount  \n",
       "0                     Nicht zuteilbar - NA        11619.00  \n",
       "1                Université de Genève - GE        41022.00  \n",
       "2  NPO (Biblioth., Museen, Verwalt.) - NPO        79732.00  \n",
       "3                   Universität Basel - BS        52627.00  \n",
       "4  NPO (Biblioth., Museen, Verwalt.) - NPO       120042.00  "
      ]
     },
     "execution_count": 107,
     "metadata": {},
     "output_type": "execute_result"
    }
   ],
   "source": [
    "data.head()"
   ]
  },
  {
   "cell_type": "markdown",
   "metadata": {},
   "source": [
    "### Drop lines where amount is null and where University is not declared"
   ]
  },
  {
   "cell_type": "code",
   "execution_count": 108,
   "metadata": {
    "collapsed": false
   },
   "outputs": [
    {
     "name": "stdout",
     "output_type": "stream",
     "text": [
      "(50464, 4)\n",
      "(48283, 4)\n"
     ]
    },
    {
     "data": {
      "text/html": [
       "<div>\n",
       "<table border=\"1\" class=\"dataframe\">\n",
       "  <thead>\n",
       "    <tr style=\"text-align: right;\">\n",
       "      <th></th>\n",
       "      <th>﻿\"Project Number\"</th>\n",
       "      <th>Institution</th>\n",
       "      <th>University</th>\n",
       "      <th>Approved Amount</th>\n",
       "    </tr>\n",
       "  </thead>\n",
       "  <tbody>\n",
       "    <tr>\n",
       "      <th>1</th>\n",
       "      <td>4</td>\n",
       "      <td>Faculté de Psychologie et des Sciences de l'Ed...</td>\n",
       "      <td>Université de Genève - GE</td>\n",
       "      <td>41022.00</td>\n",
       "    </tr>\n",
       "    <tr>\n",
       "      <th>2</th>\n",
       "      <td>5</td>\n",
       "      <td>Kommission für das Corpus philosophorum medii ...</td>\n",
       "      <td>NPO (Biblioth., Museen, Verwalt.) - NPO</td>\n",
       "      <td>79732.00</td>\n",
       "    </tr>\n",
       "    <tr>\n",
       "      <th>3</th>\n",
       "      <td>6</td>\n",
       "      <td>Abt. Handschriften und Alte Drucke Bibliothek ...</td>\n",
       "      <td>Universität Basel - BS</td>\n",
       "      <td>52627.00</td>\n",
       "    </tr>\n",
       "    <tr>\n",
       "      <th>4</th>\n",
       "      <td>7</td>\n",
       "      <td>Schweiz. Thesauruskommission</td>\n",
       "      <td>NPO (Biblioth., Museen, Verwalt.) - NPO</td>\n",
       "      <td>120042.00</td>\n",
       "    </tr>\n",
       "    <tr>\n",
       "      <th>5</th>\n",
       "      <td>8</td>\n",
       "      <td>Séminaire de politique économique, d'économie ...</td>\n",
       "      <td>Université de Fribourg - FR</td>\n",
       "      <td>53009.00</td>\n",
       "    </tr>\n",
       "  </tbody>\n",
       "</table>\n",
       "</div>"
      ],
      "text/plain": [
       "   ﻿\"Project Number\"                                        Institution  \\\n",
       "1                  4  Faculté de Psychologie et des Sciences de l'Ed...   \n",
       "2                  5  Kommission für das Corpus philosophorum medii ...   \n",
       "3                  6  Abt. Handschriften und Alte Drucke Bibliothek ...   \n",
       "4                  7                       Schweiz. Thesauruskommission   \n",
       "5                  8  Séminaire de politique économique, d'économie ...   \n",
       "\n",
       "                                University Approved Amount  \n",
       "1                Université de Genève - GE        41022.00  \n",
       "2  NPO (Biblioth., Museen, Verwalt.) - NPO        79732.00  \n",
       "3                   Universität Basel - BS        52627.00  \n",
       "4  NPO (Biblioth., Museen, Verwalt.) - NPO       120042.00  \n",
       "5              Université de Fribourg - FR        53009.00  "
      ]
     },
     "execution_count": 108,
     "metadata": {},
     "output_type": "execute_result"
    }
   ],
   "source": [
    "data = data[data[\"Approved Amount\"] != \"data not included in P3\"]\n",
    "data = data[data[\"University\"] != \"Nicht zuteilbar - NA\"]\n",
    "print(data.shape)\n",
    "data = data.dropna(subset=['University'])\n",
    "print(data.shape)\n",
    "data.head()"
   ]
  },
  {
   "cell_type": "markdown",
   "metadata": {},
   "source": [
    "#### Reset index"
   ]
  },
  {
   "cell_type": "code",
   "execution_count": 109,
   "metadata": {
    "collapsed": false
   },
   "outputs": [
    {
     "data": {
      "text/html": [
       "<div>\n",
       "<table border=\"1\" class=\"dataframe\">\n",
       "  <thead>\n",
       "    <tr style=\"text-align: right;\">\n",
       "      <th></th>\n",
       "      <th>﻿\"Project Number\"</th>\n",
       "      <th>Institution</th>\n",
       "      <th>University</th>\n",
       "      <th>Approved Amount</th>\n",
       "    </tr>\n",
       "  </thead>\n",
       "  <tbody>\n",
       "    <tr>\n",
       "      <th>0</th>\n",
       "      <td>4</td>\n",
       "      <td>Faculté de Psychologie et des Sciences de l'Ed...</td>\n",
       "      <td>Université de Genève - GE</td>\n",
       "      <td>41022.00</td>\n",
       "    </tr>\n",
       "    <tr>\n",
       "      <th>1</th>\n",
       "      <td>5</td>\n",
       "      <td>Kommission für das Corpus philosophorum medii ...</td>\n",
       "      <td>NPO (Biblioth., Museen, Verwalt.) - NPO</td>\n",
       "      <td>79732.00</td>\n",
       "    </tr>\n",
       "    <tr>\n",
       "      <th>2</th>\n",
       "      <td>6</td>\n",
       "      <td>Abt. Handschriften und Alte Drucke Bibliothek ...</td>\n",
       "      <td>Universität Basel - BS</td>\n",
       "      <td>52627.00</td>\n",
       "    </tr>\n",
       "    <tr>\n",
       "      <th>3</th>\n",
       "      <td>7</td>\n",
       "      <td>Schweiz. Thesauruskommission</td>\n",
       "      <td>NPO (Biblioth., Museen, Verwalt.) - NPO</td>\n",
       "      <td>120042.00</td>\n",
       "    </tr>\n",
       "    <tr>\n",
       "      <th>4</th>\n",
       "      <td>8</td>\n",
       "      <td>Séminaire de politique économique, d'économie ...</td>\n",
       "      <td>Université de Fribourg - FR</td>\n",
       "      <td>53009.00</td>\n",
       "    </tr>\n",
       "  </tbody>\n",
       "</table>\n",
       "</div>"
      ],
      "text/plain": [
       "   ﻿\"Project Number\"                                        Institution  \\\n",
       "0                  4  Faculté de Psychologie et des Sciences de l'Ed...   \n",
       "1                  5  Kommission für das Corpus philosophorum medii ...   \n",
       "2                  6  Abt. Handschriften und Alte Drucke Bibliothek ...   \n",
       "3                  7                       Schweiz. Thesauruskommission   \n",
       "4                  8  Séminaire de politique économique, d'économie ...   \n",
       "\n",
       "                                University Approved Amount  \n",
       "0                Université de Genève - GE        41022.00  \n",
       "1  NPO (Biblioth., Museen, Verwalt.) - NPO        79732.00  \n",
       "2                   Universität Basel - BS        52627.00  \n",
       "3  NPO (Biblioth., Museen, Verwalt.) - NPO       120042.00  \n",
       "4              Université de Fribourg - FR        53009.00  "
      ]
     },
     "execution_count": 109,
     "metadata": {},
     "output_type": "execute_result"
    }
   ],
   "source": [
    "data = data.reset_index(drop=True)\n",
    "data.head()"
   ]
  },
  {
   "cell_type": "markdown",
   "metadata": {},
   "source": [
    "#### Find unique university names"
   ]
  },
  {
   "cell_type": "code",
   "execution_count": 110,
   "metadata": {
    "collapsed": false
   },
   "outputs": [
    {
     "data": {
      "text/plain": [
       "array(['Université de Genève - GE',\n",
       "       'NPO (Biblioth., Museen, Verwalt.) - NPO', 'Universität Basel - BS',\n",
       "       'Université de Fribourg - FR', 'Universität Zürich - ZH'], dtype=object)"
      ]
     },
     "execution_count": 110,
     "metadata": {},
     "output_type": "execute_result"
    }
   ],
   "source": [
    "universities = data.University.unique()\n",
    "universities[:5]"
   ]
  },
  {
   "cell_type": "markdown",
   "metadata": {},
   "source": [
    "### How to find the cantons for each university\n",
    "\n",
    "First we remarked that some universities are described by their Canton (ex : \"Université de Genève - GE\"). For those ones we want to just get the Canton code and add it in the correct column.\n",
    "\n",
    "Then some others are not described by their Canton so in this case we use GeoNames"
   ]
  },
  {
   "cell_type": "markdown",
   "metadata": {},
   "source": [
    "### Extract canton's code directly from University names given in data\n",
    "\n",
    "First of all, we need to know which code describe a canton, we can find this in the json"
   ]
  },
  {
   "cell_type": "code",
   "execution_count": null,
   "metadata": {
    "collapsed": false
   },
   "outputs": [],
   "source": [
    "\"\"\"\n",
    "# This gets the value after the '-' in the uni name :\n",
    "# re.findall(r'- (\\w+)', data['University'][index])[0]\n",
    "input_file=open(cantons_json_path, 'r', encoding='utf-8')\n",
    "json_decode=json.load(input_file)\n",
    "canton_ids = []\n",
    "canton_names = []\n",
    "for i in range(0,len(json_decode['objects']['cantons']['geometries'])):\n",
    "    canton_ids.append(json_decode['objects']['cantons']['geometries'][i]['id'])\n",
    "    canton_names.append(json_decode['objects']['cantons']['geometries'][i]['properties']['name'])\n",
    "print(canton_ids)\n",
    "print(canton_names)\n",
    "\"\"\""
   ]
  },
  {
   "cell_type": "markdown",
   "metadata": {},
   "source": [
    "For cantons with two names (French/German/Italian), let's separate them"
   ]
  },
  {
   "cell_type": "code",
   "execution_count": null,
   "metadata": {
    "collapsed": false
   },
   "outputs": [],
   "source": [
    "\"\"\"\n",
    "canton_names_sep = []\n",
    "for canton_name in canton_names:\n",
    "    if('/' in canton_name):\n",
    "        canton_names_sep.append(re.findall(r'(\\w+)/', canton_name)[0])\n",
    "        canton_names_sep.append(re.findall(r'/(\\w+)', canton_name)[0])\n",
    "    else:\n",
    "        canton_names_sep.append(canton_name)\n",
    "\"\"\""
   ]
  },
  {
   "cell_type": "markdown",
   "metadata": {},
   "source": [
    "Now we want to go through the data and we look if in the name of the university there is an occurance of one of the names and we assume they are from this canton\n",
    "First, we create the dataframe"
   ]
  },
  {
   "cell_type": "markdown",
   "metadata": {},
   "source": [
    "### Use Google API to find cantons of University"
   ]
  },
  {
   "cell_type": "code",
   "execution_count": 16,
   "metadata": {
    "collapsed": false
   },
   "outputs": [
    {
     "data": {
      "text/plain": [
       "[('Université de Genève', 'GE'),\n",
       " ('NPO (Biblioth., Museen, Verwalt.)', None),\n",
       " ('Universität Basel', 'BS'),\n",
       " ('Université de Fribourg', 'FR'),\n",
       " ('Universität Zürich', 'ZH'),\n",
       " ('Université de Lausanne', 'VD'),\n",
       " ('Universität Bern', 'BE'),\n",
       " ('Eidg. Forschungsanstalt für Wald,Schnee,Land', None),\n",
       " ('Université de Neuchâtel', 'NE'),\n",
       " ('ETH Zürich', 'ZH'),\n",
       " ('Inst. de Hautes Etudes Internat. et du Dév', 'Genève'),\n",
       " ('Universität St. Gallen', 'SG'),\n",
       " ('Weitere Institute', None),\n",
       " ('Firmen/Privatwirtschaft', None),\n",
       " ('Pädagogische Hochschule Graubünden', 'GR'),\n",
       " ('EPF Lausanne', 'VD'),\n",
       " ('Pädagogische Hochschule Zürich', 'ZH'),\n",
       " ('Universität Luzern', 'LU'),\n",
       " ('Schweiz. Institut für Kunstwissenschaft', 'ZH'),\n",
       " ('SUP della Svizzera italiana', 'TI'),\n",
       " ('HES de Suisse occidentale', 'JU'),\n",
       " ('Robert Walser', 'ZH'),\n",
       " ('Paul Scherrer Institut', 'AG'),\n",
       " ('Pädagogische Hochschule St. Gallen', 'SG'),\n",
       " ('Eidg. Anstalt für Wasserversorgung', 'ZH'),\n",
       " ('Eidg. Material und Prüfungsanstalt', None),\n",
       " ('Physikal.', 'QLD'),\n",
       " ('Berner Fachhochschule', 'BE'),\n",
       " ('Swiss Center for Electronics and Microtech.', None),\n",
       " ('Weitere Spitäler', None),\n",
       " ('AO Research Institute', 'Wien'),\n",
       " ('Allergie', None),\n",
       " ('Forschungsinstitut für biologischen Landbau', 'HE'),\n",
       " ('Friedrich Miescher Institute', 'BS'),\n",
       " ('Kantonsspital St. Gallen', 'SG'),\n",
       " ('Forschungsanstalten Agroscope', None),\n",
       " ('Ente Ospedaliero Cantonale', 'TI'),\n",
       " ('Inst. universit. romand de Santé au Travail', 'VD'),\n",
       " ('Eidg. Hochschulinstitut für Berufsbildung', 'BE'),\n",
       " ('Zürcher Fachhochschule (ohne PH)', 'ZH'),\n",
       " ('Università della Svizzera italiana', 'TI'),\n",
       " ('Institut für Kulturforschung Graubünden', 'GR'),\n",
       " ('Fachhochschule Nordwestschweiz (ohne PH)', None),\n",
       " ('Interkant. Hochschule für Heilpädagogik ZH', 'ZH'),\n",
       " (\"Centre de rech. sur l'environnement alpin\", 'VS'),\n",
       " ('Idiap Research Institute', 'VS'),\n",
       " ('Pädagogische Hochschule Bern', 'BE'),\n",
       " ('Institut Universitaire Kurt Bösch', 'VS'),\n",
       " ('Schweizer Paraplegiker Forschung', 'LU'),\n",
       " ('Hochschule Luzern', 'LU'),\n",
       " ('Forschungsinstitut für Opthalmologie', 'BW'),\n",
       " ('Haute école pédagogique du canton de Vaud', 'VD'),\n",
       " ('Fachhochschule Ostschweiz', 'SG'),\n",
       " ('Inst. Suisse de Spéléologie et Karstologie', 'NE'),\n",
       " ('Swiss Institute of Bioinformatics', None),\n",
       " ('Haute école pédagogique BE, JU, NE', None),\n",
       " ('Pädagogische Hochschule Luzern', 'LU'),\n",
       " ('Forschungskommission SAGW', None),\n",
       " ('Istituto Svizzero di Roma', 'Lazio'),\n",
       " ('Pädag. Hochschule Tessin (Teilschule SUPSI)', 'TI'),\n",
       " ('Haute école pédagogique fribourgeoise', 'FR'),\n",
       " ('Pädagogische Hochschule Schwyz', 'SZ'),\n",
       " ('Pädagogische Hochschule Thurgau', 'TG'),\n",
       " ('Biotechnologie Institut Thurgau', 'TG'),\n",
       " ('Fachhochschule Kalaidos', 'ZH'),\n",
       " ('Schweizer Kompetenzzentrum Sozialwissensch.', None),\n",
       " ('Pädagogische Hochschule Wallis', 'VS'),\n",
       " ('Schweiz. Hochschule für Logopädie Rorschach', None),\n",
       " ('Pädagogische Hochschule Zug', 'ZG'),\n",
       " ('Instituto Ricerche Solari Locarno', 'TI'),\n",
       " ('Franklin University Switzerland', 'TI'),\n",
       " ('Pädagogische Hochschule Schaffhausen', 'SH'),\n",
       " ('Pädagogische Hochschule Nordwestschweiz', 'SO'),\n",
       " ('Staatsunabh. Theologische Hochschule Basel', 'BS'),\n",
       " ('Facoltà di Teologia di Lugano', 'TI'),\n",
       " ('Fernfachhochschule Schweiz (Mitglied SUPSI)', 'VS')]"
      ]
     },
     "execution_count": 16,
     "metadata": {},
     "output_type": "execute_result"
    }
   ],
   "source": [
    "cantons_ids_google = ggl_h.canton_ids(universities)\n",
    "\n",
    "#cantons_ids = ggl_h.canton_ids(['Université de Neuchâtel'])\n",
    "cantons_ids_google"
   ]
  },
  {
   "cell_type": "markdown",
   "metadata": {},
   "source": [
    "### Create new dataframe with amount and cantons"
   ]
  },
  {
   "cell_type": "code",
   "execution_count": 111,
   "metadata": {
    "collapsed": false
   },
   "outputs": [],
   "source": [
    "input_file = open(cantons_json_path, 'r', encoding='utf-8')\n",
    "json_decode = json.load(input_file)\n",
    "canton_ids = []\n",
    "canton_names = []\n",
    "for i in range(0, len(json_decode['objects']['cantons']['geometries'])):\n",
    "    canton_ids.append(json_decode['objects']['cantons']['geometries'][i]['id'])\n",
    " \n",
    "\n",
    "correct     = [t for t in cantons_ids_google if t[1] in canton_ids]\n",
    "not_correct = [t for t in cantons_ids_google if t[1] not in canton_ids]\n"
   ]
  },
  {
   "cell_type": "code",
   "execution_count": 112,
   "metadata": {
    "collapsed": true
   },
   "outputs": [],
   "source": [
    "#Build lookup manually\n",
    "lookup = {\n",
    " 'AO Research Institute': 'GR',\n",
    " 'Allergie': 'BE',\n",
    " 'Eidg. Forschungsanstalt für Wald,Schnee,Land': 'ZH',\n",
    " 'Eidg. Material und Prüfungsanstalt': 'ZH',\n",
    " 'Fachhochschule Nordwestschweiz (ohne PH)': 'SO',\n",
    " 'Firmen/Privatwirtschaft': None, #private society/sector so no location available\n",
    " 'Forschungsanstalten Agroscope': None, #organism split into multiple cantons., can't assume equal distribution\n",
    " 'Forschungsinstitut für Opthalmologie': 'VS',\n",
    " 'Forschungsinstitut für biologischen Landbau': 'AG',\n",
    " 'Forschungskommission SAGW': 'BE',\n",
    " 'Haute école pédagogique BE, JU, NE': 'JU',\n",
    " 'Inst. de Hautes Etudes Internat. et du Dév': 'GE',\n",
    " 'Istituto Svizzero di Roma': None, #private fondation, in Rome\n",
    " 'NPO (Biblioth., Museen, Verwalt.)': None, #non-profit organizations, can't assume equal distribution\n",
    " 'Physikal.': None, #swiss physical society, can't assume equal distribution\n",
    " 'Schweiz. Hochschule für Logopädie Rorschach': 'SG',\n",
    " 'Schweizer Kompetenzzentrum Sozialwissensch.': 'VD',\n",
    " 'Swiss Center for Electronics and Microtech.': 'NE',\n",
    " 'Swiss Institute of Bioinformatics': 'VD',\n",
    " 'Weitere Institute': None, #other institutes, can't assume equals distribution\n",
    " 'Weitere Spitäler': None #other hospitals, can't assume equal distribution\n",
    "}"
   ]
  },
  {
   "cell_type": "code",
   "execution_count": 113,
   "metadata": {
    "collapsed": false
   },
   "outputs": [],
   "source": [
    "map_ids = {**dict(correct), **lookup}"
   ]
  },
  {
   "cell_type": "code",
   "execution_count": 148,
   "metadata": {
    "collapsed": false
   },
   "outputs": [],
   "source": [
    "data_bis = data.copy()\n",
    "data_bis['Canton'] = data_bis['University'].apply(lambda name: map_ids[name.split('-')[0].strip()])\n",
    "data_bis = data_bis[['Canton', 'Approved Amount']]\n",
    "data_bis['Approved Amount'] = data_bis['Approved Amount'].apply(lambda val : float(val))\n",
    "data_bis = data_bis.groupby('Canton').sum()\n",
    "data_bis = data_bis.reset_index()\n",
    "cantons_missing = [[id_, 0] for id_ in canton_ids if id_ not in data_bis.Canton.values]\n",
    "df_missing = pd.DataFrame(cantons_missing, columns=['Canton', 'Approved Amount'])\n",
    "data_bis = data_bis.append(df_missing, ignore_index=True)"
   ]
  },
  {
   "cell_type": "code",
   "execution_count": 149,
   "metadata": {
    "collapsed": false
   },
   "outputs": [
    {
     "name": "stderr",
     "output_type": "stream",
     "text": [
      "//anaconda/lib/python3.5/site-packages/ipykernel/__main__.py:9: FutureWarning: 'threshold_scale' default behavior has changed. Now you get a linear scale between the 'min' and the 'max' of your data. To get former behavior, use folium.utilities.split_six.\n"
     ]
    }
   ],
   "source": [
    "# TEST\n",
    "swiss_map = folium.Map(location=[5.956, 45.818], zoom_start=3)\n",
    "swiss_map.choropleth(geo_path=cantons_json_path, \n",
    "                     data=data_bis,\n",
    "                     columns=['Canton', 'Approved Amount'],\n",
    "                     key_on='feature.id',\n",
    "                     topojson='objects.cantons',\n",
    "                     fill_color='YlGn',\n",
    "                     legend_name = 'Random numbers'\n",
    "                    )\n",
    "swiss_map.save('swiss_map.html')"
   ]
  },
  {
   "cell_type": "code",
   "execution_count": null,
   "metadata": {
    "collapsed": true
   },
   "outputs": [],
   "source": []
  }
 ],
 "metadata": {
  "anaconda-cloud": {},
  "kernelspec": {
   "display_name": "Python [Root]",
   "language": "python",
   "name": "Python [Root]"
  },
  "language_info": {
   "codemirror_mode": {
    "name": "ipython",
    "version": 3
   },
   "file_extension": ".py",
   "mimetype": "text/x-python",
   "name": "python",
   "nbconvert_exporter": "python",
   "pygments_lexer": "ipython3",
   "version": "3.5.2"
  }
 },
 "nbformat": 4,
 "nbformat_minor": 0
}
