{
 "cells": [
  {
   "cell_type": "markdown",
   "metadata": {},
   "source": [
    "# 03 - Interactive Viz\n",
    "\n",
    "## Deadline\n",
    "Friday October 28, 2016 at 11:59PM\n",
    "\n",
    "## Important Notes\n",
    "* Make sure you push on GitHub your Notebook with all the cells already evaluated\n",
    "* Don't forget to add a textual description of your thought process, the assumptions you made, and the solution\n",
    "you plan to implement!\n",
    "* Please write all your comments in English, and use meaningful variable names in your code\n",
    "\n",
    "## Background\n",
    "In this homework we will practice with interactive visualization, which is the key ingredient of many successful viz (especially when it comes to infographics).\n",
    "You will be working with the P3 database of the [SNSF](http://www.snf.ch/en/Pages/default.aspx) (Swiss National Science Foundation).\n",
    "As you can see from their [entry page](http://p3.snf.ch/), P3 already offers some ready-made viz, but we want to build a more advanced one for the sake\n",
    "of quick data exploration. Therefore, start by [downloading the raw data](http://p3.snf.ch/Pages/DataAndDocumentation.aspx) (just for the Grant Export), and read carefully\n",
    "the documentation to understand the schema. Install then [Folium](https://github.com/python-visualization/folium) to deal with geographical data (*HINT*: it is not\n",
    "available in your standard Anaconda environment, therefore search on the Web how to install it easily!) The README file of Folium comes with very clear examples, and links \n",
    "to their own iPython Notebooks -- make good use of this information. For your own convenience, in this same directory you can already find a TopoJSON file with the \n",
    "geo-coordinates of each Swiss canton (which can be used as an overlay on the Folium maps).\n",
    "\n",
    "\n",
    "## Assignment\n",
    "1. Build a [Choropleth map](https://en.wikipedia.org/wiki/Choropleth_map) which shows intuitively (i.e., use colors wisely) how much grant money goes to each Swiss canton.\n",
    "To do so, you will need to use the provided TopoJSON file, combined with the Choropleth map example you can find in the Folium README file.\n",
    "\n",
    "*HINT*: the P3 database is formed by entries which assign a grant (and its approved amount) to a University name. Therefore you will need a smart strategy to go from University\n",
    "to Canton name. The [Geonames Full Text Search API in JSON](http://www.geonames.org/export/web-services.html) can help you with this -- try to use it as much as possible\n",
    "to build the canton mappings that you need. For those universities for which you cannot find a mapping via the API, you are then allowed to build it manually -- feel free to stop \n",
    "by the time you mapped the top-95% of the universities. I also recommend you to use an intermediate viz step for debugging purposes, showing all the universties as markers in your map (e.g., if you don't select the right results from the Geonames API, some of your markers might be placed on nearby countries...)\n",
    "\n",
    "2. *BONUS*: using the map you have just built, and the geographical information contained in it, could you give a *rough estimate* of the difference in research funding\n",
    "between the areas divided by the [Röstigraben](https://en.wikipedia.org/wiki/R%C3%B6stigraben)?\n",
    "\n",
    "*HINT*: for those cantons cut through by the Röstigraben, [this viz](http://p3.snf.ch/Default.aspx?id=allcharts) can be helpful!\n"
   ]
  },
  {
   "cell_type": "code",
   "execution_count": 2,
   "metadata": {
    "collapsed": false
   },
   "outputs": [],
   "source": [
    "from bs4 import BeautifulSoup\n",
    "%matplotlib inline\n",
    "import pandas as pd\n",
    "import numpy as np\n",
    "import matplotlib.pyplot as plt\n",
    "import seaborn as sns\n",
    "import folium\n",
    "sns.set_context('notebook')\n",
    "import re\n",
    "import requests as rq\n",
    "import json"
   ]
  },
  {
   "cell_type": "code",
   "execution_count": 3,
   "metadata": {
    "collapsed": false
   },
   "outputs": [],
   "source": [
    "cantons_json_path = \"data/ch-cantons.topojson.json\"\n",
    "cantons_csv_path = \"data/P3_GrantExport.csv\"\n",
    "\n",
    "data = pd.read_csv(cantons_csv_path, sep=';')"
   ]
  },
  {
   "cell_type": "markdown",
   "metadata": {},
   "source": [
    "### Drop columns we don't need"
   ]
  },
  {
   "cell_type": "code",
   "execution_count": 4,
   "metadata": {
    "collapsed": false
   },
   "outputs": [],
   "source": [
    "data = data.drop([ \"Project Title\", \"Project Title English\", \"Responsible Applicant\", \"Funding Instrument\", \"Funding Instrument Hierarchy\", \"Discipline Number\", \"Discipline Name\", \"Discipline Name Hierarchy\", \"Start Date\", \"End Date\", \"Keywords\"], axis=1)"
   ]
  },
  {
   "cell_type": "code",
   "execution_count": 5,
   "metadata": {
    "collapsed": false
   },
   "outputs": [
    {
     "data": {
      "text/html": [
       "<div>\n",
       "<table border=\"1\" class=\"dataframe\">\n",
       "  <thead>\n",
       "    <tr style=\"text-align: right;\">\n",
       "      <th></th>\n",
       "      <th>﻿\"Project Number\"</th>\n",
       "      <th>Institution</th>\n",
       "      <th>University</th>\n",
       "      <th>Approved Amount</th>\n",
       "    </tr>\n",
       "  </thead>\n",
       "  <tbody>\n",
       "    <tr>\n",
       "      <th>0</th>\n",
       "      <td>1</td>\n",
       "      <td>NaN</td>\n",
       "      <td>Nicht zuteilbar - NA</td>\n",
       "      <td>11619.00</td>\n",
       "    </tr>\n",
       "    <tr>\n",
       "      <th>1</th>\n",
       "      <td>4</td>\n",
       "      <td>Faculté de Psychologie et des Sciences de l'Ed...</td>\n",
       "      <td>Université de Genève - GE</td>\n",
       "      <td>41022.00</td>\n",
       "    </tr>\n",
       "    <tr>\n",
       "      <th>2</th>\n",
       "      <td>5</td>\n",
       "      <td>Kommission für das Corpus philosophorum medii ...</td>\n",
       "      <td>NPO (Biblioth., Museen, Verwalt.) - NPO</td>\n",
       "      <td>79732.00</td>\n",
       "    </tr>\n",
       "    <tr>\n",
       "      <th>3</th>\n",
       "      <td>6</td>\n",
       "      <td>Abt. Handschriften und Alte Drucke Bibliothek ...</td>\n",
       "      <td>Universität Basel - BS</td>\n",
       "      <td>52627.00</td>\n",
       "    </tr>\n",
       "    <tr>\n",
       "      <th>4</th>\n",
       "      <td>7</td>\n",
       "      <td>Schweiz. Thesauruskommission</td>\n",
       "      <td>NPO (Biblioth., Museen, Verwalt.) - NPO</td>\n",
       "      <td>120042.00</td>\n",
       "    </tr>\n",
       "  </tbody>\n",
       "</table>\n",
       "</div>"
      ],
      "text/plain": [
       "   ﻿\"Project Number\"                                        Institution  \\\n",
       "0                  1                                                NaN   \n",
       "1                  4  Faculté de Psychologie et des Sciences de l'Ed...   \n",
       "2                  5  Kommission für das Corpus philosophorum medii ...   \n",
       "3                  6  Abt. Handschriften und Alte Drucke Bibliothek ...   \n",
       "4                  7                       Schweiz. Thesauruskommission   \n",
       "\n",
       "                                University Approved Amount  \n",
       "0                     Nicht zuteilbar - NA        11619.00  \n",
       "1                Université de Genève - GE        41022.00  \n",
       "2  NPO (Biblioth., Museen, Verwalt.) - NPO        79732.00  \n",
       "3                   Universität Basel - BS        52627.00  \n",
       "4  NPO (Biblioth., Museen, Verwalt.) - NPO       120042.00  "
      ]
     },
     "execution_count": 5,
     "metadata": {},
     "output_type": "execute_result"
    }
   ],
   "source": [
    "data.head()"
   ]
  },
  {
   "cell_type": "markdown",
   "metadata": {},
   "source": [
    "### Drop lines where amount is null and where University is not declared"
   ]
  },
  {
   "cell_type": "code",
   "execution_count": 6,
   "metadata": {
    "collapsed": false
   },
   "outputs": [
    {
     "data": {
      "text/html": [
       "<div>\n",
       "<table border=\"1\" class=\"dataframe\">\n",
       "  <thead>\n",
       "    <tr style=\"text-align: right;\">\n",
       "      <th></th>\n",
       "      <th>﻿\"Project Number\"</th>\n",
       "      <th>Institution</th>\n",
       "      <th>University</th>\n",
       "      <th>Approved Amount</th>\n",
       "    </tr>\n",
       "  </thead>\n",
       "  <tbody>\n",
       "    <tr>\n",
       "      <th>1</th>\n",
       "      <td>4</td>\n",
       "      <td>Faculté de Psychologie et des Sciences de l'Ed...</td>\n",
       "      <td>Université de Genève - GE</td>\n",
       "      <td>41022.00</td>\n",
       "    </tr>\n",
       "    <tr>\n",
       "      <th>2</th>\n",
       "      <td>5</td>\n",
       "      <td>Kommission für das Corpus philosophorum medii ...</td>\n",
       "      <td>NPO (Biblioth., Museen, Verwalt.) - NPO</td>\n",
       "      <td>79732.00</td>\n",
       "    </tr>\n",
       "    <tr>\n",
       "      <th>3</th>\n",
       "      <td>6</td>\n",
       "      <td>Abt. Handschriften und Alte Drucke Bibliothek ...</td>\n",
       "      <td>Universität Basel - BS</td>\n",
       "      <td>52627.00</td>\n",
       "    </tr>\n",
       "    <tr>\n",
       "      <th>4</th>\n",
       "      <td>7</td>\n",
       "      <td>Schweiz. Thesauruskommission</td>\n",
       "      <td>NPO (Biblioth., Museen, Verwalt.) - NPO</td>\n",
       "      <td>120042.00</td>\n",
       "    </tr>\n",
       "    <tr>\n",
       "      <th>5</th>\n",
       "      <td>8</td>\n",
       "      <td>Séminaire de politique économique, d'économie ...</td>\n",
       "      <td>Université de Fribourg - FR</td>\n",
       "      <td>53009.00</td>\n",
       "    </tr>\n",
       "  </tbody>\n",
       "</table>\n",
       "</div>"
      ],
      "text/plain": [
       "   ﻿\"Project Number\"                                        Institution  \\\n",
       "1                  4  Faculté de Psychologie et des Sciences de l'Ed...   \n",
       "2                  5  Kommission für das Corpus philosophorum medii ...   \n",
       "3                  6  Abt. Handschriften und Alte Drucke Bibliothek ...   \n",
       "4                  7                       Schweiz. Thesauruskommission   \n",
       "5                  8  Séminaire de politique économique, d'économie ...   \n",
       "\n",
       "                                University Approved Amount  \n",
       "1                Université de Genève - GE        41022.00  \n",
       "2  NPO (Biblioth., Museen, Verwalt.) - NPO        79732.00  \n",
       "3                   Universität Basel - BS        52627.00  \n",
       "4  NPO (Biblioth., Museen, Verwalt.) - NPO       120042.00  \n",
       "5              Université de Fribourg - FR        53009.00  "
      ]
     },
     "execution_count": 6,
     "metadata": {},
     "output_type": "execute_result"
    }
   ],
   "source": [
    "data = data[data[\"Approved Amount\"]!=\"data not included in P3\"]\n",
    "data = data[data[\"University\"]!=\"Nicht zuteilbar - NA\"]\n",
    "data = data[data[\"University\"]!=\"NaN\"] # utiliser data = data.dropnan(subset=['Universitsy]) ??\n",
    "data.head()"
   ]
  },
  {
   "cell_type": "markdown",
   "metadata": {},
   "source": [
    "#### Reset index"
   ]
  },
  {
   "cell_type": "code",
   "execution_count": 7,
   "metadata": {
    "collapsed": false
   },
   "outputs": [
    {
     "data": {
      "text/html": [
       "<div>\n",
       "<table border=\"1\" class=\"dataframe\">\n",
       "  <thead>\n",
       "    <tr style=\"text-align: right;\">\n",
       "      <th></th>\n",
       "      <th>﻿\"Project Number\"</th>\n",
       "      <th>Institution</th>\n",
       "      <th>University</th>\n",
       "      <th>Approved Amount</th>\n",
       "    </tr>\n",
       "  </thead>\n",
       "  <tbody>\n",
       "    <tr>\n",
       "      <th>0</th>\n",
       "      <td>4</td>\n",
       "      <td>Faculté de Psychologie et des Sciences de l'Ed...</td>\n",
       "      <td>Université de Genève - GE</td>\n",
       "      <td>41022.00</td>\n",
       "    </tr>\n",
       "    <tr>\n",
       "      <th>1</th>\n",
       "      <td>5</td>\n",
       "      <td>Kommission für das Corpus philosophorum medii ...</td>\n",
       "      <td>NPO (Biblioth., Museen, Verwalt.) - NPO</td>\n",
       "      <td>79732.00</td>\n",
       "    </tr>\n",
       "    <tr>\n",
       "      <th>2</th>\n",
       "      <td>6</td>\n",
       "      <td>Abt. Handschriften und Alte Drucke Bibliothek ...</td>\n",
       "      <td>Universität Basel - BS</td>\n",
       "      <td>52627.00</td>\n",
       "    </tr>\n",
       "    <tr>\n",
       "      <th>3</th>\n",
       "      <td>7</td>\n",
       "      <td>Schweiz. Thesauruskommission</td>\n",
       "      <td>NPO (Biblioth., Museen, Verwalt.) - NPO</td>\n",
       "      <td>120042.00</td>\n",
       "    </tr>\n",
       "    <tr>\n",
       "      <th>4</th>\n",
       "      <td>8</td>\n",
       "      <td>Séminaire de politique économique, d'économie ...</td>\n",
       "      <td>Université de Fribourg - FR</td>\n",
       "      <td>53009.00</td>\n",
       "    </tr>\n",
       "  </tbody>\n",
       "</table>\n",
       "</div>"
      ],
      "text/plain": [
       "   ﻿\"Project Number\"                                        Institution  \\\n",
       "0                  4  Faculté de Psychologie et des Sciences de l'Ed...   \n",
       "1                  5  Kommission für das Corpus philosophorum medii ...   \n",
       "2                  6  Abt. Handschriften und Alte Drucke Bibliothek ...   \n",
       "3                  7                       Schweiz. Thesauruskommission   \n",
       "4                  8  Séminaire de politique économique, d'économie ...   \n",
       "\n",
       "                                University Approved Amount  \n",
       "0                Université de Genève - GE        41022.00  \n",
       "1  NPO (Biblioth., Museen, Verwalt.) - NPO        79732.00  \n",
       "2                   Universität Basel - BS        52627.00  \n",
       "3  NPO (Biblioth., Museen, Verwalt.) - NPO       120042.00  \n",
       "4              Université de Fribourg - FR        53009.00  "
      ]
     },
     "execution_count": 7,
     "metadata": {},
     "output_type": "execute_result"
    }
   ],
   "source": [
    "data = data.reset_index(drop=True)\n",
    "data.head()"
   ]
  },
  {
   "cell_type": "markdown",
   "metadata": {},
   "source": [
    "#### Find unique university names"
   ]
  },
  {
   "cell_type": "code",
   "execution_count": 125,
   "metadata": {
    "collapsed": false
   },
   "outputs": [],
   "source": [
    "universities = data.University.unique()\n",
    "#universities.tolist\n",
    "universities = np.delete(universities, (np.where(universities==\"Interkant. Hochschule für Heilpädagogik ZH - HfH\")[0]) +1)"
   ]
  },
  {
   "cell_type": "code",
   "execution_count": 155,
   "metadata": {
    "collapsed": false
   },
   "outputs": [],
   "source": [
    "universities_full = pd.DataFrame( columns=['Uni', 'Amount'])\n",
    "universities_full['Uni']=data.University\n",
    "universities_full['Amount']=data['Approved Amount']"
   ]
  },
  {
   "cell_type": "markdown",
   "metadata": {},
   "source": [
    "### How to find the cantons for each university\n",
    "\n",
    "First we remarked that some universities are described by their Canton (ex : \"Université de Genève - GE\"). For those ones we want to just get the Canton code and add it in the correct column.\n",
    "\n",
    "Then some others are not described by their Canton so in this case we use GeoNames"
   ]
  },
  {
   "cell_type": "markdown",
   "metadata": {},
   "source": [
    "### Extract canton's code directly from University names given in data\n",
    "\n",
    "First of all, we need to know which code describe a canton, we can find this in the json"
   ]
  },
  {
   "cell_type": "code",
   "execution_count": 161,
   "metadata": {
    "collapsed": false
   },
   "outputs": [
    {
     "name": "stdout",
     "output_type": "stream",
     "text": [
      "['ZH', 'BE', 'LU', 'UR', 'SZ', 'OW', 'NW', 'GL', 'ZG', 'FR', 'SO', 'BS', 'BL', 'SH', 'AR', 'AI', 'SG', 'GR', 'AG', 'TG', 'TI', 'VD', 'VS', 'NE', 'GE', 'JU']\n",
      "['Zürich', 'Bern/Berne', 'Luzern', 'Uri', 'Schwyz', 'Obwalden', 'Nidwalden', 'Glarus', 'Zug', 'Fribourg', 'Solothurn', 'Basel-Stadt', 'Basel-Landschaft', 'Schaffhausen', 'Appenzell Ausserrhoden', 'Appenzell Innerrhoden', 'St. Gallen', 'Graubünden/Grigioni', 'Aargau', 'Thurgau', 'Ticino', 'Vaud', 'Valais/Wallis', 'Neuchâtel', 'Genève', 'Jura']\n"
     ]
    }
   ],
   "source": [
    "# This gets the value after the '-' in the uni name :\n",
    "# re.findall(r'- (\\w+)', data['University'][index])[0]\n",
    "input_file=open(cantons_json_path, 'r', encoding='utf-8')\n",
    "json_decode=json.load(input_file)\n",
    "canton_ids = []\n",
    "canton_names = []\n",
    "for i in range(0,len(json_decode['objects']['cantons']['geometries'])):\n",
    "    canton_ids.append(json_decode['objects']['cantons']['geometries'][i]['id'])\n",
    "    canton_names.append(json_decode['objects']['cantons']['geometries'][i]['properties']['name'])\n",
    "print(canton_ids)\n",
    "print(canton_names)"
   ]
  },
  {
   "cell_type": "markdown",
   "metadata": {},
   "source": [
    "For cantons with two names (French/German/Italian), let's separate them"
   ]
  },
  {
   "cell_type": "code",
   "execution_count": 162,
   "metadata": {
    "collapsed": false
   },
   "outputs": [],
   "source": [
    "canton_names_sep = []\n",
    "for canton_name in canton_names:\n",
    "    if('/' in canton_name):\n",
    "        canton_names_sep.append(re.findall(r'(\\w+)/', canton_name)[0])\n",
    "        canton_names_sep.append(re.findall(r'/(\\w+)', canton_name)[0])\n",
    "    else:\n",
    "        canton_names_sep.append(canton_name)"
   ]
  },
  {
   "cell_type": "markdown",
   "metadata": {},
   "source": [
    "Now we want to go through the data and we look if in the name of the university there is an occurance of one of the names and we assume they are from this canton\n",
    "First, we create the dataframe"
   ]
  },
  {
   "cell_type": "code",
   "execution_count": 163,
   "metadata": {
    "collapsed": false
   },
   "outputs": [
    {
     "data": {
      "text/html": [
       "<div>\n",
       "<table border=\"1\" class=\"dataframe\">\n",
       "  <thead>\n",
       "    <tr style=\"text-align: right;\">\n",
       "      <th></th>\n",
       "      <th>Cantons</th>\n",
       "      <th>University</th>\n",
       "      <th>Amount</th>\n",
       "    </tr>\n",
       "  </thead>\n",
       "  <tbody>\n",
       "    <tr>\n",
       "      <th>0</th>\n",
       "      <td>Zürich</td>\n",
       "      <td></td>\n",
       "      <td>0</td>\n",
       "    </tr>\n",
       "    <tr>\n",
       "      <th>1</th>\n",
       "      <td>Bern</td>\n",
       "      <td></td>\n",
       "      <td>0</td>\n",
       "    </tr>\n",
       "    <tr>\n",
       "      <th>2</th>\n",
       "      <td>Berne</td>\n",
       "      <td></td>\n",
       "      <td>0</td>\n",
       "    </tr>\n",
       "    <tr>\n",
       "      <th>3</th>\n",
       "      <td>Luzern</td>\n",
       "      <td></td>\n",
       "      <td>0</td>\n",
       "    </tr>\n",
       "    <tr>\n",
       "      <th>4</th>\n",
       "      <td>Uri</td>\n",
       "      <td></td>\n",
       "      <td>0</td>\n",
       "    </tr>\n",
       "  </tbody>\n",
       "</table>\n",
       "</div>"
      ],
      "text/plain": [
       "  Cantons University  Amount\n",
       "0  Zürich                  0\n",
       "1    Bern                  0\n",
       "2   Berne                  0\n",
       "3  Luzern                  0\n",
       "4     Uri                  0"
      ]
     },
     "execution_count": 163,
     "metadata": {},
     "output_type": "execute_result"
    }
   ],
   "source": [
    "cantons_amount = pd.DataFrame(columns=['Cantons', 'University', 'Amount'])\n",
    "cantons_amount.set_index('Cantons')\n",
    "cantons_amount['Cantons']=canton_names_sep\n",
    "cantons_amount['University']=\"\"\n",
    "cantons_amount['Amount']=0\n",
    "cantons_amount.head()"
   ]
  },
  {
   "cell_type": "markdown",
   "metadata": {},
   "source": [
    "Then we look in the name of the university if it does contain the name or the code of a Canton\n",
    "### TODO get the amount of the universities"
   ]
  },
  {
   "cell_type": "code",
   "execution_count": 164,
   "metadata": {
    "collapsed": false
   },
   "outputs": [
    {
     "name": "stdout",
     "output_type": "stream",
     "text": [
      "  Cantons                                         University  Amount\n",
      "0  Zürich  Universität Zürich - ZHETH Zürich - ETHZPädago...       3\n",
      "1    Bern  Universität Bern - BERobert Walser-Stiftung Be...       4\n",
      "2   Berne                        Berner Fachhochschule - BFH       1\n",
      "3  Luzern  Universität Luzern - LUHochschule Luzern - HSL...       3\n",
      "4     Uri                                                          0\n"
     ]
    }
   ],
   "source": [
    "i=-1\n",
    "for name in canton_names_sep:\n",
    "    i+=1\n",
    "    for university in universities:\n",
    "        if name in university:\n",
    "            cantons_amount.loc[i, 'University']+=university\n",
    "            cantons_amount.loc[i, 'Amount']+=1\n",
    "print(cantons_amount.head())"
   ]
  },
  {
   "cell_type": "markdown",
   "metadata": {},
   "source": [
    "### Use GeoNames to find cantons of University"
   ]
  },
  {
   "cell_type": "code",
   "execution_count": null,
   "metadata": {
    "collapsed": false
   },
   "outputs": [],
   "source": [
    "for placename in universities:\n",
    "    r = rq.get('http://api.geonames.org/postalCodeSearch?', params={'placename' : placename, 'username' : 'almil36'})\n",
    "    soup = BeautifulSoup(r.text, 'lxml-xml')\n",
    "    for p in soup.find_all('adminCode1'):\n",
    "        print('OK')\n",
    "        #TODO access the line of this placename\n",
    "        #df[\"Canton\"][placename]+=[p.text]\n",
    "    #print(placename)"
   ]
  },
  {
   "cell_type": "markdown",
   "metadata": {},
   "source": [
    "### Create new dataframe with amount and cantons"
   ]
  },
  {
   "cell_type": "code",
   "execution_count": null,
   "metadata": {
    "collapsed": true
   },
   "outputs": [],
   "source": [
    "#TODO"
   ]
  },
  {
   "cell_type": "code",
   "execution_count": null,
   "metadata": {
    "collapsed": false
   },
   "outputs": [],
   "source": [
    "# TEST\n",
    "swiss_map = folium.Map(location=[5.956, 45.818], zoom_start=3)\n",
    "swiss_map.choropleth(geo_path=cantons_json_path, \n",
    "                     data=cantons_data,\n",
    "                     columns=['Cantons', 'Approved Amount'],\n",
    "                     key_on='feature.id',\n",
    "                     topojson='objects.cantons',\n",
    "                     fill_color='YlGn',\n",
    "                     legend_name = 'Random numbers'\n",
    "                    )\n",
    "swiss_map.save('swiss_map.html')"
   ]
  },
  {
   "cell_type": "code",
   "execution_count": null,
   "metadata": {
    "collapsed": true
   },
   "outputs": [],
   "source": []
  }
 ],
 "metadata": {
  "anaconda-cloud": {},
  "kernelspec": {
   "display_name": "Python [Root]",
   "language": "python",
   "name": "Python [Root]"
  },
  "language_info": {
   "codemirror_mode": {
    "name": "ipython",
    "version": 3
   },
   "file_extension": ".py",
   "mimetype": "text/x-python",
   "name": "python",
   "nbconvert_exporter": "python",
   "pygments_lexer": "ipython3",
   "version": "3.5.2"
  }
 },
 "nbformat": 4,
 "nbformat_minor": 0
}
