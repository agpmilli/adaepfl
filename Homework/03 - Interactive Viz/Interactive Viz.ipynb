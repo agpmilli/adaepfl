{
 "cells": [
  {
   "cell_type": "markdown",
   "metadata": {},
   "source": [
    "# 03 - Interactive Viz\n",
    "\n",
    "## Deadline\n",
    "Friday October 28, 2016 at 11:59PM\n",
    "\n",
    "## Important Notes\n",
    "* Make sure you push on GitHub your Notebook with all the cells already evaluated\n",
    "* Don't forget to add a textual description of your thought process, the assumptions you made, and the solution\n",
    "you plan to implement!\n",
    "* Please write all your comments in English, and use meaningful variable names in your code\n",
    "\n",
    "## Background\n",
    "In this homework we will practice with interactive visualization, which is the key ingredient of many successful viz (especially when it comes to infographics).\n",
    "You will be working with the P3 database of the [SNSF](http://www.snf.ch/en/Pages/default.aspx) (Swiss National Science Foundation).\n",
    "As you can see from their [entry page](http://p3.snf.ch/), P3 already offers some ready-made viz, but we want to build a more advanced one for the sake\n",
    "of quick data exploration. Therefore, start by [downloading the raw data](http://p3.snf.ch/Pages/DataAndDocumentation.aspx) (just for the Grant Export), and read carefully\n",
    "the documentation to understand the schema. Install then [Folium](https://github.com/python-visualization/folium) to deal with geographical data (*HINT*: it is not\n",
    "available in your standard Anaconda environment, therefore search on the Web how to install it easily!) The README file of Folium comes with very clear examples, and links \n",
    "to their own iPython Notebooks -- make good use of this information. For your own convenience, in this same directory you can already find a TopoJSON file with the \n",
    "geo-coordinates of each Swiss canton (which can be used as an overlay on the Folium maps).\n",
    "\n",
    "\n",
    "## Assignment\n",
    "1. Build a [Choropleth map](https://en.wikipedia.org/wiki/Choropleth_map) which shows intuitively (i.e., use colors wisely) how much grant money goes to each Swiss canton.\n",
    "To do so, you will need to use the provided TopoJSON file, combined with the Choropleth map example you can find in the Folium README file.\n",
    "\n",
    "*HINT*: the P3 database is formed by entries which assign a grant (and its approved amount) to a University name. Therefore you will need a smart strategy to go from University\n",
    "to Canton name. The [Geonames Full Text Search API in JSON](http://www.geonames.org/export/web-services.html) can help you with this -- try to use it as much as possible\n",
    "to build the canton mappings that you need. For those universities for which you cannot find a mapping via the API, you are then allowed to build it manually -- feel free to stop \n",
    "by the time you mapped the top-95% of the universities. I also recommend you to use an intermediate viz step for debugging purposes, showing all the universties as markers in your map (e.g., if you don't select the right results from the Geonames API, some of your markers might be placed on nearby countries...)\n",
    "\n",
    "2. *BONUS*: using the map you have just built, and the geographical information contained in it, could you give a *rough estimate* of the difference in research funding\n",
    "between the areas divided by the [Röstigraben](https://en.wikipedia.org/wiki/R%C3%B6stigraben)?\n",
    "\n",
    "*HINT*: for those cantons cut through by the Röstigraben, [this viz](http://p3.snf.ch/Default.aspx?id=allcharts) can be helpful!\n"
   ]
  },
  {
   "cell_type": "code",
   "execution_count": null,
   "metadata": {
    "collapsed": false
   },
   "outputs": [],
   "source": [
    "from bs4 import BeautifulSoup\n",
    "%matplotlib inline\n",
    "import pandas as pd\n",
    "import numpy as np\n",
    "import matplotlib.pyplot as plt\n",
    "import seaborn as sns\n",
    "import folium\n",
    "sns.set_context('notebook')\n",
    "import re\n",
    "import requests as rq\n",
    "import json\n",
    "import google_helper as ggl_h"
   ]
  },
  {
   "cell_type": "code",
   "execution_count": null,
   "metadata": {
    "collapsed": false
   },
   "outputs": [],
   "source": [
    "cantons_json_path = \"data/ch-cantons.topojson.json\"\n",
    "cantons_csv_path = \"data/P3_GrantExport.csv\"\n",
    "\n",
    "data = pd.read_csv(cantons_csv_path, sep=';')"
   ]
  },
  {
   "cell_type": "markdown",
   "metadata": {},
   "source": [
    "### Drop columns we don't need"
   ]
  },
  {
   "cell_type": "code",
   "execution_count": null,
   "metadata": {
    "collapsed": false
   },
   "outputs": [],
   "source": [
    "data = data.drop([ \"Project Title\", \"Project Title English\", \"Responsible Applicant\", \"Funding Instrument\", \"Funding Instrument Hierarchy\", \"Discipline Number\", \"Discipline Name\", \"Discipline Name Hierarchy\", \"Start Date\", \"End Date\", \"Keywords\"], axis=1)"
   ]
  },
  {
   "cell_type": "code",
   "execution_count": null,
   "metadata": {
    "collapsed": false
   },
   "outputs": [],
   "source": [
    "data.head()"
   ]
  },
  {
   "cell_type": "markdown",
   "metadata": {},
   "source": [
    "### Drop lines where amount is null and where University is not declared\n",
    "\n",
    "We drop the line where the amount column equals \"Data not included in P\" as it is not interessant to keep it if we need to compute the sum of the amounts.\n",
    "\n",
    "Then we drop the lines where the university column equals \"Nicht zuteilbar - NA\" and \"NA\" as we cannot find the cantons where they are placed."
   ]
  },
  {
   "cell_type": "code",
   "execution_count": null,
   "metadata": {
    "collapsed": false
   },
   "outputs": [],
   "source": [
    "count_amount = data[data[\"Approved Amount\"]==\"data not included in P3\"].size\n",
    "count_uni = data[data[\"University\"]==\"Nicht zuteilbar - NA\"].size + data[data[\"University\"]==\"NaN\"].size\n",
    "print(\"Percentage of amount data not in P3 : \",count_amount/data.size*100,\"%\")\n",
    "print(\"Percentage of University not defined : \",count_uni/data.size*100,\"%\")\n",
    "print(\"Total number of lines in the data before deletion : \",data.size)\n",
    "print(\"Number of lines deleted : \",count_amount + count_uni)\n",
    "print(\"Total percentage of lines deleted : \", (count_amount+count_uni)/data.size*100, \"%\")\n",
    "data = data[data[\"Approved Amount\"]!=\"data not included in P3\"]\n",
    "data = data[data[\"University\"]!=\"Nicht zuteilbar - NA\"]\n",
    "data = data.dropna(subset=['University'])\n",
    "print(data.shape)\n",
    "print(data.shape)\n",
    "data.head()"
   ]
  },
  {
   "cell_type": "markdown",
   "metadata": {},
   "source": [
    "It deleted 54020 lines, which is around 21% of the lines in the given data. It is a lot but necessary."
   ]
  },
  {
   "cell_type": "markdown",
   "metadata": {},
   "source": [
    "#### We reset the index to keep an index going from 0 to the length of the table"
   ]
  },
  {
   "cell_type": "code",
   "execution_count": null,
   "metadata": {
    "collapsed": false
   },
   "outputs": [],
   "source": [
    "data = data.reset_index(drop=True)\n",
    "data.head()"
   ]
  },
  {
   "cell_type": "markdown",
   "metadata": {},
   "source": [
    "#### Find unique university names"
   ]
  },
  {
   "cell_type": "code",
   "execution_count": null,
   "metadata": {
    "collapsed": false
   },
   "outputs": [],
   "source": [
    "universities = data.University.unique()\n",
    "universities[:5]"
   ]
  },
  {
   "cell_type": "markdown",
   "metadata": {},
   "source": [
    "### How to find the cantons for each university\n",
    "\n",
    "First we remarked that some universities are described by their Canton (ex : \"Université de Genève - GE\"). For those ones we want to just get the Canton code and add it in the correct column.\n",
    "\n",
    "Then some others are not described by their Canton so in this case we use GeoNames"
   ]
  },
  {
   "cell_type": "markdown",
   "metadata": {},
   "source": [
    "### Extract canton's code directly from University names given in data\n",
    "\n",
    "First of all, we need to know which code describe a canton, we can find this in the json"
   ]
  },
  {
   "cell_type": "code",
   "execution_count": null,
   "metadata": {
    "collapsed": false
   },
   "outputs": [],
   "source": [
    "\"\"\"\n",
    "# This gets the value after the '-' in the uni name :\n",
    "# re.findall(r'- (\\w+)', data['University'][index])[0]\n",
    "input_file=open(cantons_json_path, 'r', encoding='utf-8')\n",
    "json_decode=json.load(input_file)\n",
    "canton_ids = []\n",
    "canton_names = []\n",
    "for i in range(0,len(json_decode['objects']['cantons']['geometries'])):\n",
    "    canton_ids.append(json_decode['objects']['cantons']['geometries'][i]['id'])\n",
    "    canton_names.append(json_decode['objects']['cantons']['geometries'][i]['properties']['name'])\n",
    "print(canton_ids)\n",
    "print(canton_names)\n",
    "\"\"\""
   ]
  },
  {
   "cell_type": "markdown",
   "metadata": {},
   "source": [
    "For cantons with two names (French/German/Italian), let's separate them"
   ]
  },
  {
   "cell_type": "code",
   "execution_count": null,
   "metadata": {
    "collapsed": false
   },
   "outputs": [],
   "source": [
    "\"\"\"\n",
    "canton_names_sep = []\n",
    "for canton_name in canton_names:\n",
    "    if('/' in canton_name):\n",
    "        canton_names_sep.append(re.findall(r'(\\w+)/', canton_name)[0])\n",
    "        canton_names_sep.append(re.findall(r'/(\\w+)', canton_name)[0])\n",
    "    else:\n",
    "        canton_names_sep.append(canton_name)\n",
    "\"\"\""
   ]
  },
  {
   "cell_type": "markdown",
   "metadata": {},
   "source": [
    "Now we want to go through the data and we look if in the name of the university there is an occurance of one of the names and we assume they are from this canton\n",
    "First, we create the dataframe"
   ]
  },
  {
   "cell_type": "markdown",
   "metadata": {},
   "source": [
    "### Use Google API to find cantons of University"
   ]
  },
  {
   "cell_type": "code",
   "execution_count": null,
   "metadata": {
    "collapsed": false
   },
   "outputs": [],
   "source": [
    "cantons_ids_google = ggl_h.canton_ids(universities)\n",
    "\n",
    "#cantons_ids = ggl_h.canton_ids(['Université de Neuchâtel'])\n",
    "cantons_ids_google"
   ]
  },
  {
   "cell_type": "markdown",
   "metadata": {},
   "source": [
    "### Create new dataframe with amount and cantons"
   ]
  },
  {
   "cell_type": "code",
   "execution_count": null,
   "metadata": {
    "collapsed": false
   },
   "outputs": [],
   "source": [
    "input_file = open(cantons_json_path, 'r', encoding='utf-8')\n",
    "json_decode = json.load(input_file)\n",
    "canton_ids = []\n",
    "canton_names = []\n",
    "for i in range(0, len(json_decode['objects']['cantons']['geometries'])):\n",
    "    canton_ids.append(json_decode['objects']['cantons']['geometries'][i]['id'])\n",
    " \n",
    "\n",
    "correct     = [t for t in cantons_ids_google if t[1] in canton_ids]\n",
    "not_correct = [t for t in cantons_ids_google if t[1] not in canton_ids]\n"
   ]
  },
  {
   "cell_type": "code",
   "execution_count": null,
   "metadata": {
    "collapsed": true
   },
   "outputs": [],
   "source": [
    "#Build lookup manually\n",
    "lookup = {\n",
    " 'AO Research Institute': 'GR',\n",
    " 'Allergie': 'BE',\n",
    " 'Eidg. Forschungsanstalt für Wald,Schnee,Land': 'ZH',\n",
    " 'Eidg. Material und Prüfungsanstalt': 'ZH',\n",
    " 'Fachhochschule Nordwestschweiz (ohne PH)': 'SO',\n",
    " 'Firmen/Privatwirtschaft': None, #private society/sector so no location available\n",
    " 'Forschungsanstalten Agroscope': None, #organism split into multiple cantons., can't assume equal distribution\n",
    " 'Forschungsinstitut für Opthalmologie': 'VS',\n",
    " 'Forschungsinstitut für biologischen Landbau': 'AG',\n",
    " 'Forschungskommission SAGW': 'BE',\n",
    " 'Haute école pédagogique BE, JU, NE': 'JU',\n",
    " 'Inst. de Hautes Etudes Internat. et du Dév': 'GE',\n",
    " 'Istituto Svizzero di Roma': None, #private fondation, in Rome\n",
    " 'NPO (Biblioth., Museen, Verwalt.)': None, #non-profit organizations, can't assume equal distribution\n",
    " 'Physikal.': None, #swiss physical society, can't assume equal distribution\n",
    " 'Schweiz. Hochschule für Logopädie Rorschach': 'SG',\n",
    " 'Schweizer Kompetenzzentrum Sozialwissensch.': 'VD',\n",
    " 'Swiss Center for Electronics and Microtech.': 'NE',\n",
    " 'Swiss Institute of Bioinformatics': 'VD',\n",
    " 'Weitere Institute': None, #other institutes, can't assume equals distribution\n",
    " 'Weitere Spitäler': None #other hospitals, can't assume equal distribution\n",
    "}"
   ]
  },
  {
   "cell_type": "code",
   "execution_count": null,
   "metadata": {
    "collapsed": false
   },
   "outputs": [],
   "source": [
    "map_ids = {**dict(correct), **lookup}"
   ]
  },
  {
   "cell_type": "code",
   "execution_count": null,
   "metadata": {
    "collapsed": false
   },
   "outputs": [],
   "source": [
    "data_bis = data.copy()\n",
    "data_bis['Canton'] = data_bis['University'].apply(lambda name: map_ids[name.split('-')[0].strip()])\n",
    "data_bis = data_bis[['Canton', 'Approved Amount']]\n",
    "data_bis['Approved Amount'] = data_bis['Approved Amount'].apply(lambda val : float(val))\n",
    "data_bis = data_bis.groupby('Canton').sum()\n",
    "data_bis = data_bis.reset_index()\n",
    "cantons_missing = [[id_, 0] for id_ in canton_ids if id_ not in data_bis.Canton.values]\n",
    "df_missing = pd.DataFrame(cantons_missing, columns=['Canton', 'Approved Amount'])\n",
    "data_bis = data_bis.append(df_missing, ignore_index=True)\n",
    "#data_bis['Approved Amount'] = data_bis['Approved Amount'].apply(lambda gr: (int)(gr))\n",
    "thresh = list(np.linspace(data_bis['Approved Amount'].min() + 1, data_bis['Approved Amount'].max(), 6, dtype=np.int))"
   ]
  },
  {
   "cell_type": "code",
   "execution_count": null,
   "metadata": {
    "collapsed": false
   },
   "outputs": [],
   "source": [
    "cantons_coordinates = {\n",
    "    'ZH' : [47.377895, 8.541183],\n",
    "    'BE' : [46.94909, 7.447357], \n",
    "    'LU' : [47.05, 8.3], \n",
    "    'UR' : [46.880826, 8.639446], \n",
    "    'SZ' : [47.020546, 8.658332], \n",
    "    'OW' : [46.897214, 8.24722], \n",
    "    'NW' : [46.95972, 8.366674], \n",
    "    'GL' : [47.033329, 9.066666], \n",
    "    'ZG' : [47.169441, 8.516663], \n",
    "    'FR' : [46.806103, 7.162775], \n",
    "    'SO' : [47.208331, 7.537513], \n",
    "    'BS' : [47.567, 7.583], \n",
    "    'BL' : [47.466667, 7.733333], \n",
    "    'SH' : [47.700001, 8.633333], \n",
    "    'AR' : [47.383329, 9.266671], \n",
    "    'AI' : [47.330828, 9.408615], \n",
    "    'SG' : [47.416667, 9.366667], \n",
    "    'GR' : [46.85, 9.533333],\n",
    "    'AG' : [47.4, 8.05], \n",
    "    'TG' : [47.556, 8.8965], \n",
    "    'TI' : [46.2, 9.016667], \n",
    "    'VD' : [46.521, 6.631], \n",
    "    'VS' : [46.227778, 7.358611], \n",
    "    'NE' : [46.990281, 6.930567], \n",
    "    'GE' : [46.200013, 6.149985], \n",
    "    'JU' : [47.366667, 7.35]\n",
    "}"
   ]
  },
  {
   "cell_type": "code",
   "execution_count": null,
   "metadata": {
    "collapsed": false
   },
   "outputs": [],
   "source": [
    "# TEST\n",
    "import locale \n",
    "\n",
    "locale.setlocale(locale.LC_ALL, '')\n",
    "\n",
    "swiss_map = folium.Map(location=[47, 8], zoom_start=8)\n",
    "swiss_map.choropleth(geo_path=cantons_json_path, \n",
    "                     data=data_bis,\n",
    "                     columns=['Canton', 'Approved Amount'],\n",
    "                     threshold_scale=thresh,\n",
    "                     key_on='feature.id',\n",
    "                     fill_opacity = 1,\n",
    "                     topojson='objects.cantons',\n",
    "                     fill_color='OrRd',\n",
    "                     legend_name = 'Grant money for each Swiss canton'\n",
    "                    )\n",
    "\n",
    "for key, value in cantons_coordinates.items():\n",
    "    if(value != None):\n",
    "        amount = locale.currency(data_bis[data_bis['Canton'] == key]['Approved Amount'].values[0], grouping=True)\n",
    "        folium.RegularPolygonMarker(\n",
    "                   location=value, \n",
    "                   popup=key + ' - ' + amount,\n",
    "                   fill_color='#43d9de', \n",
    "                   number_of_sides=4, \n",
    "                   radius=10).add_to(swiss_map)\n",
    "        \n",
    "swiss_map.save('swiss_map.html')"
   ]
  },
  {
   "cell_type": "code",
   "execution_count": null,
   "metadata": {
    "collapsed": true
   },
   "outputs": [],
   "source": []
  }
 ],
 "metadata": {
  "anaconda-cloud": {},
  "kernelspec": {
   "display_name": "Python [Root]",
   "language": "python",
   "name": "Python [Root]"
  },
  "language_info": {
   "codemirror_mode": {
    "name": "ipython",
    "version": 3
   },
   "file_extension": ".py",
   "mimetype": "text/x-python",
   "name": "python",
   "nbconvert_exporter": "python",
   "pygments_lexer": "ipython3",
   "version": "3.5.2"
  }
 },
 "nbformat": 4,
 "nbformat_minor": 0
}
